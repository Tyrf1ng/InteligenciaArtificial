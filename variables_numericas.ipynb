{
 "cells": [
  {
   "cell_type": "code",
   "execution_count": 1,
   "metadata": {},
   "outputs": [
    {
     "name": "stdout",
     "output_type": "stream",
     "text": [
      "Las predicciones se han guardado en predicciones1.json\n"
     ]
    },
    {
     "name": "stderr",
     "output_type": "stream",
     "text": [
      "c:\\Users\\Cristox\\AppData\\Local\\Programs\\Python\\Python312\\Lib\\site-packages\\sklearn\\base.py:493: UserWarning: X does not have valid feature names, but RandomForestRegressor was fitted with feature names\n",
      "  warnings.warn(\n",
      "c:\\Users\\Cristox\\AppData\\Local\\Programs\\Python\\Python312\\Lib\\site-packages\\sklearn\\base.py:493: UserWarning: X does not have valid feature names, but RandomForestRegressor was fitted with feature names\n",
      "  warnings.warn(\n",
      "c:\\Users\\Cristox\\AppData\\Local\\Programs\\Python\\Python312\\Lib\\site-packages\\sklearn\\base.py:493: UserWarning: X does not have valid feature names, but RandomForestRegressor was fitted with feature names\n",
      "  warnings.warn(\n",
      "c:\\Users\\Cristox\\AppData\\Local\\Programs\\Python\\Python312\\Lib\\site-packages\\sklearn\\base.py:493: UserWarning: X does not have valid feature names, but RandomForestRegressor was fitted with feature names\n",
      "  warnings.warn(\n",
      "c:\\Users\\Cristox\\AppData\\Local\\Programs\\Python\\Python312\\Lib\\site-packages\\sklearn\\base.py:493: UserWarning: X does not have valid feature names, but RandomForestRegressor was fitted with feature names\n",
      "  warnings.warn(\n"
     ]
    }
   ],
   "source": [
    "import pickle\n",
    "import json\n",
    "\n",
    "# Cargar el JSON\n",
    "with open('entrega1.json', 'r') as f:\n",
    "    data = json.load(f)\n",
    "\n",
    "# Cargar el modelo\n",
    "with open('variables_numericas', 'rb') as f2:\n",
    "    model = pickle.load(f2)\n",
    "\n",
    "# Lista para almacenar las predicciones\n",
    "predicciones = []\n",
    "\n",
    "# Iterar sobre cada registro en el JSON y hacer la predicción\n",
    "for registro in data:\n",
    "    # Extraer las características necesarias para la predicción\n",
    "    features = [\n",
    "        registro[\"Store\"],\n",
    "        registro[\"IsHoliday\"],\n",
    "        registro[\"Dept\"],\n",
    "        registro[\"Temperature\"],\n",
    "        registro[\"Fuel_Price\"],\n",
    "        registro[\"MarkDown1\"],\n",
    "        registro[\"MarkDown2\"],\n",
    "        registro[\"MarkDown3\"],\n",
    "        registro[\"MarkDown4\"],\n",
    "        registro[\"MarkDown5\"],\n",
    "        registro[\"CPI\"],\n",
    "        registro[\"Unemployment\"],\n",
    "        registro[\"Type\"],\n",
    "        registro[\"Size\"],\n",
    "        registro[\"Quarter\"]\n",
    "      \n",
    "    ]\n",
    "    \n",
    "    # Realizar la predicción\n",
    "    prediccion = model.predict([features])[0]\n",
    "    \n",
    "    # Guardar las características y la predicción en un diccionario\n",
    "    resultado = {\n",
    "        \"Store\": registro[\"Store\"],\n",
    "        \"Features\": features,\n",
    "        \"Prediction\": prediccion\n",
    "    }\n",
    "    \n",
    "    # Agregar el resultado a la lista de predicciones\n",
    "    predicciones.append(resultado)\n",
    "\n",
    "# Guardar las predicciones en un nuevo archivo JSON\n",
    "with open('predicciones1.json', 'w') as f3:\n",
    "    json.dump(predicciones, f3, indent=4)\n",
    "\n",
    "print('Las predicciones se han guardado en predicciones1.json')"
   ]
  }
 ],
 "metadata": {
  "kernelspec": {
   "display_name": "Python 3",
   "language": "python",
   "name": "python3"
  },
  "language_info": {
   "codemirror_mode": {
    "name": "ipython",
    "version": 3
   },
   "file_extension": ".py",
   "mimetype": "text/x-python",
   "name": "python",
   "nbconvert_exporter": "python",
   "pygments_lexer": "ipython3",
   "version": "3.12.6"
  }
 },
 "nbformat": 4,
 "nbformat_minor": 2
}
