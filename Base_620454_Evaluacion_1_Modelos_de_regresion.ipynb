{
  "cells": [
    {
      "cell_type": "markdown",
      "metadata": {
        "id": "ges6kPUBUVcq"
      },
      "source": [
        "# Modelos de regresión\n",
        "\n",
        "**Autor/es:**\n",
        "+ Integrante 1\n",
        "+ Integrante 2\n",
        "\n",
        "**Correos Electrónicos:**\n",
        "+ Correo integrante 1\n",
        "+ Correo integrante 2\n",
        "\n",
        "**Fecha de Creación:** Septiembre de 2024  \n",
        "**Versión:** 1.0\n",
        "\n",
        "---\n",
        "\n",
        "## Descripción\n",
        "\n",
        "Este notebook contiene el desarrollo de la evaluación 2 - parte 1 de la asignatura de Inteligencia Artificial de la carrera de Ingeniería civil en informática de la Universidad del Bío Bío - Sede Concepción\n"
      ]
    },
    {
      "cell_type": "code",
      "execution_count": null,
      "metadata": {
        "colab": {
          "base_uri": "https://localhost:8080/"
        },
        "id": "uTNl2gWno3cS",
        "outputId": "5e8040a7-656c-496b-e048-e75de3e643ed"
      },
      "outputs": [
        {
          "name": "stdout",
          "output_type": "stream",
          "text": [
            "--2024-09-28 13:06:03--  https://raw.githubusercontent.com/JaznaLaProfe/InteligenciaArtificial/main/data/walmart.csv.zip\n",
            "Resolving raw.githubusercontent.com (raw.githubusercontent.com)... 185.199.110.133, 185.199.111.133, 185.199.108.133, ...\n",
            "Connecting to raw.githubusercontent.com (raw.githubusercontent.com)|185.199.110.133|:443... connected.\n",
            "HTTP request sent, awaiting response... 200 OK\n",
            "Length: 4493735 (4.3M) [application/zip]\n",
            "Saving to: ‘walmart.csv.zip’\n",
            "\n",
            "walmart.csv.zip     100%[===================>]   4.29M  --.-KB/s    in 0.09s   \n",
            "\n",
            "2024-09-28 13:06:03 (49.8 MB/s) - ‘walmart.csv.zip’ saved [4493735/4493735]\n",
            "\n"
          ]
        }
      ],
      "source": [
        "# Descargar el archivo a la carpeta data\n",
        "!wget https://raw.githubusercontent.com/JaznaLaProfe/InteligenciaArtificial/main/data/walmart.csv.zip\n",
        "\n",
        "# Descomprimir el archivo directamente dentro de la carpeta data\n",
        "!unzip -q walmart.csv.zip\n",
        "\n",
        "# Eliminar el archivo zip\n",
        "!rm walmart.csv.zip\n",
        "\n",
        "# Eliminar la carpeta __MACOSX si se creó\n",
        "!rm -rf __MACOSX"
      ]
    },
    {
      "cell_type": "markdown",
      "metadata": {
        "id": "aNNkDq38JdxT"
      },
      "source": [
        "# Descripción de la data\n",
        "\n",
        "El conjunto de datos proporciona información sobre:\n",
        "+ Store: número de identificación de la tienda.\n",
        "+ Date: semana en la que ocurrieron las ventas.\n",
        "+ Weekly_Sales: monto total de ventas en esa tienda durante la semana.\n",
        "+ Holiday_Flag: Un indicador binario que muestra si la semana coincide con un feriado importante.\n",
        "+ Temperature: temperatura registrada en el día de la venta.\n",
        "+ Fuel_Price: El precio del combustible en la región.\n",
        "+ CPI: índice de precios al consumidor en la región.\n",
        "+ Unemployment: tasa de desempleo prevalente en ese momento.\n",
        "+ Event_Type: tipo de evento asociado a la semana, como Super Bowl, Labour Day, Thanksgiving, Christmas o semana normal.\n",
        "\n"
      ]
    },
    {
      "cell_type": "markdown",
      "metadata": {
        "id": "U2orlVzUTr8q"
      },
      "source": [
        "# Contexto del negocio\n",
        "\n",
        "Una cadena de tiendas minoristas desea mejorar la precisión en la planificación de inventarios y recursos mediante la redicción del monto de las ventas semanales en cada una de sus sucursales. Para lograr esto, se cuenta con un set de datos que incluye múltiples variables relevantes, como las ventas semanales históricas, las condiciones económicas y eventos especiales que podrían impactar el comportamiento de los consumidores."
      ]
    },
    {
      "cell_type": "markdown",
      "metadata": {
        "id": "Z_moJT7RT6hG"
      },
      "source": [
        "# Objetivo\n",
        "\n",
        "Desarrollar modelos de regresión que permitan predecir el monto de las ventas semanales para cada tienda, basándose en variables que reflejan tanto factores económicos como eventos estacionales y externos. Esta predicción permitirá a la cadena anticiparse a fluctuaciones en la demanda, optimizando así su cadena de suministro y maximizando la eficiencia operativa."
      ]
    },
    {
      "cell_type": "markdown",
      "metadata": {
        "id": "_ieGZiC4VFsc"
      },
      "source": [
        "# Preparación del entorno"
      ]
    },
    {
      "cell_type": "code",
      "execution_count": 5,
      "metadata": {
        "id": "UhFPFyDVyxoR"
      },
      "outputs": [],
      "source": [
        "# Escriba su código acá\n",
        "import pandas as pd\n",
        "import numpy as np\n",
        "import seaborn as sb\n",
        "import matplotlib.pyplot as plt\n",
        "import pickle\n",
        "\n",
        "from sklearn.linear_model import LinearRegression\n",
        "from sklearn.model_selection import train_test_split\n",
        "from sklearn.tree import DecisionTreeRegressor\n",
        "from sklearn.ensemble import RandomForestRegressor\n",
        "from sklearn.metrics import mean_absolute_error, mean_squared_log_error\n",
        "\n",
        "from sklearn.preprocessing import LabelEncoder, OneHotEncoder, OrdinalEncoder"
      ]
    },
    {
      "cell_type": "markdown",
      "metadata": {
        "id": "MafN3VAkVLTC"
      },
      "source": [
        "# Carga de la data"
      ]
    },
    {
      "cell_type": "code",
      "execution_count": 44,
      "metadata": {
        "id": "gv_XLmIdpslr"
      },
      "outputs": [],
      "source": [
        "# Escriba su código acá\n",
        "\n",
        "data = pd.read_csv(\"walmart.csv\")"
      ]
    },
    {
      "cell_type": "markdown",
      "metadata": {
        "id": "lFHXc2EIVSvi"
      },
      "source": [
        "# Fase 1 - Comprensión del negocio\n",
        "\n",
        "Una cadena de tiendas minoristas desea mejorar la precisión en la planificación de inventarios y recursos mediante la redicción del monto de las ventas semanales en cada una de sus sucursales. Para lograr esto, se cuenta con un set de datos que incluye múltiples variables relevantes, como las ventas semanales históricas, las condiciones económicas y eventos especiales que podrían impactar el comportamiento de los consumidores."
      ]
    },
    {
      "cell_type": "markdown",
      "metadata": {
        "id": "p2GfY8plzGvB"
      },
      "source": [
        "# Fase 2 - Comprensión de los datos"
      ]
    },
    {
      "cell_type": "code",
      "execution_count": 10,
      "metadata": {
        "id": "nRO_24B8zqi0"
      },
      "outputs": [
        {
          "data": {
            "text/plain": [
              "(421570, 18)"
            ]
          },
          "execution_count": 10,
          "metadata": {},
          "output_type": "execute_result"
        }
      ],
      "source": [
        "# Escriba su código acá\n",
        "data.shape"
      ]
    },
    {
      "cell_type": "code",
      "execution_count": 11,
      "metadata": {},
      "outputs": [
        {
          "data": {
            "text/plain": [
              "Index(['Unnamed: 0', 'Store', 'Date', 'IsHoliday', 'Dept', 'Weekly_Sales',\n",
              "       'Temperature', 'Fuel_Price', 'MarkDown1', 'MarkDown2', 'MarkDown3',\n",
              "       'MarkDown4', 'MarkDown5', 'CPI', 'Unemployment', 'Type', 'Size',\n",
              "       'Event_Type'],\n",
              "      dtype='object')"
            ]
          },
          "execution_count": 11,
          "metadata": {},
          "output_type": "execute_result"
        }
      ],
      "source": [
        "data.columns"
      ]
    },
    {
      "cell_type": "code",
      "execution_count": 12,
      "metadata": {},
      "outputs": [
        {
          "data": {
            "text/html": [
              "<div>\n",
              "<style scoped>\n",
              "    .dataframe tbody tr th:only-of-type {\n",
              "        vertical-align: middle;\n",
              "    }\n",
              "\n",
              "    .dataframe tbody tr th {\n",
              "        vertical-align: top;\n",
              "    }\n",
              "\n",
              "    .dataframe thead th {\n",
              "        text-align: right;\n",
              "    }\n",
              "</style>\n",
              "<table border=\"1\" class=\"dataframe\">\n",
              "  <thead>\n",
              "    <tr style=\"text-align: right;\">\n",
              "      <th></th>\n",
              "      <th>Unnamed: 0</th>\n",
              "      <th>Store</th>\n",
              "      <th>Date</th>\n",
              "      <th>IsHoliday</th>\n",
              "      <th>Dept</th>\n",
              "      <th>Weekly_Sales</th>\n",
              "      <th>Temperature</th>\n",
              "      <th>Fuel_Price</th>\n",
              "      <th>MarkDown1</th>\n",
              "      <th>MarkDown2</th>\n",
              "      <th>MarkDown3</th>\n",
              "      <th>MarkDown4</th>\n",
              "      <th>MarkDown5</th>\n",
              "      <th>CPI</th>\n",
              "      <th>Unemployment</th>\n",
              "      <th>Type</th>\n",
              "      <th>Size</th>\n",
              "      <th>Event_Type</th>\n",
              "    </tr>\n",
              "  </thead>\n",
              "  <tbody>\n",
              "    <tr>\n",
              "      <th>0</th>\n",
              "      <td>0</td>\n",
              "      <td>1</td>\n",
              "      <td>2010-02-05</td>\n",
              "      <td>0</td>\n",
              "      <td>1.0</td>\n",
              "      <td>24924.50</td>\n",
              "      <td>42.31</td>\n",
              "      <td>2.572</td>\n",
              "      <td>0.0</td>\n",
              "      <td>0.0</td>\n",
              "      <td>0.0</td>\n",
              "      <td>0.0</td>\n",
              "      <td>0.0</td>\n",
              "      <td>211.096358</td>\n",
              "      <td>8.106</td>\n",
              "      <td>3</td>\n",
              "      <td>151315</td>\n",
              "      <td>Normal</td>\n",
              "    </tr>\n",
              "    <tr>\n",
              "      <th>1</th>\n",
              "      <td>1</td>\n",
              "      <td>1</td>\n",
              "      <td>2010-02-05</td>\n",
              "      <td>0</td>\n",
              "      <td>26.0</td>\n",
              "      <td>11737.12</td>\n",
              "      <td>42.31</td>\n",
              "      <td>2.572</td>\n",
              "      <td>0.0</td>\n",
              "      <td>0.0</td>\n",
              "      <td>0.0</td>\n",
              "      <td>0.0</td>\n",
              "      <td>0.0</td>\n",
              "      <td>211.096358</td>\n",
              "      <td>8.106</td>\n",
              "      <td>3</td>\n",
              "      <td>151315</td>\n",
              "      <td>Normal</td>\n",
              "    </tr>\n",
              "    <tr>\n",
              "      <th>2</th>\n",
              "      <td>2</td>\n",
              "      <td>1</td>\n",
              "      <td>2010-02-05</td>\n",
              "      <td>0</td>\n",
              "      <td>17.0</td>\n",
              "      <td>13223.76</td>\n",
              "      <td>42.31</td>\n",
              "      <td>2.572</td>\n",
              "      <td>0.0</td>\n",
              "      <td>0.0</td>\n",
              "      <td>0.0</td>\n",
              "      <td>0.0</td>\n",
              "      <td>0.0</td>\n",
              "      <td>211.096358</td>\n",
              "      <td>8.106</td>\n",
              "      <td>3</td>\n",
              "      <td>151315</td>\n",
              "      <td>Normal</td>\n",
              "    </tr>\n",
              "    <tr>\n",
              "      <th>3</th>\n",
              "      <td>3</td>\n",
              "      <td>1</td>\n",
              "      <td>2010-02-05</td>\n",
              "      <td>0</td>\n",
              "      <td>45.0</td>\n",
              "      <td>37.44</td>\n",
              "      <td>42.31</td>\n",
              "      <td>2.572</td>\n",
              "      <td>0.0</td>\n",
              "      <td>0.0</td>\n",
              "      <td>0.0</td>\n",
              "      <td>0.0</td>\n",
              "      <td>0.0</td>\n",
              "      <td>211.096358</td>\n",
              "      <td>8.106</td>\n",
              "      <td>3</td>\n",
              "      <td>151315</td>\n",
              "      <td>Normal</td>\n",
              "    </tr>\n",
              "    <tr>\n",
              "      <th>4</th>\n",
              "      <td>4</td>\n",
              "      <td>1</td>\n",
              "      <td>2010-02-05</td>\n",
              "      <td>0</td>\n",
              "      <td>28.0</td>\n",
              "      <td>1085.29</td>\n",
              "      <td>42.31</td>\n",
              "      <td>2.572</td>\n",
              "      <td>0.0</td>\n",
              "      <td>0.0</td>\n",
              "      <td>0.0</td>\n",
              "      <td>0.0</td>\n",
              "      <td>0.0</td>\n",
              "      <td>211.096358</td>\n",
              "      <td>8.106</td>\n",
              "      <td>3</td>\n",
              "      <td>151315</td>\n",
              "      <td>Normal</td>\n",
              "    </tr>\n",
              "  </tbody>\n",
              "</table>\n",
              "</div>"
            ],
            "text/plain": [
              "   Unnamed: 0  Store        Date  IsHoliday  Dept  Weekly_Sales  Temperature  \\\n",
              "0           0      1  2010-02-05          0   1.0      24924.50        42.31   \n",
              "1           1      1  2010-02-05          0  26.0      11737.12        42.31   \n",
              "2           2      1  2010-02-05          0  17.0      13223.76        42.31   \n",
              "3           3      1  2010-02-05          0  45.0         37.44        42.31   \n",
              "4           4      1  2010-02-05          0  28.0       1085.29        42.31   \n",
              "\n",
              "   Fuel_Price  MarkDown1  MarkDown2  MarkDown3  MarkDown4  MarkDown5  \\\n",
              "0       2.572        0.0        0.0        0.0        0.0        0.0   \n",
              "1       2.572        0.0        0.0        0.0        0.0        0.0   \n",
              "2       2.572        0.0        0.0        0.0        0.0        0.0   \n",
              "3       2.572        0.0        0.0        0.0        0.0        0.0   \n",
              "4       2.572        0.0        0.0        0.0        0.0        0.0   \n",
              "\n",
              "          CPI  Unemployment  Type    Size Event_Type  \n",
              "0  211.096358         8.106     3  151315     Normal  \n",
              "1  211.096358         8.106     3  151315     Normal  \n",
              "2  211.096358         8.106     3  151315     Normal  \n",
              "3  211.096358         8.106     3  151315     Normal  \n",
              "4  211.096358         8.106     3  151315     Normal  "
            ]
          },
          "execution_count": 12,
          "metadata": {},
          "output_type": "execute_result"
        }
      ],
      "source": [
        "data.head()"
      ]
    },
    {
      "cell_type": "code",
      "execution_count": 13,
      "metadata": {},
      "outputs": [
        {
          "name": "stdout",
          "output_type": "stream",
          "text": [
            "<class 'pandas.core.frame.DataFrame'>\n",
            "RangeIndex: 421570 entries, 0 to 421569\n",
            "Data columns (total 18 columns):\n",
            " #   Column        Non-Null Count   Dtype  \n",
            "---  ------        --------------   -----  \n",
            " 0   Unnamed: 0    421570 non-null  int64  \n",
            " 1   Store         421570 non-null  int64  \n",
            " 2   Date          421570 non-null  object \n",
            " 3   IsHoliday     421570 non-null  int64  \n",
            " 4   Dept          421570 non-null  float64\n",
            " 5   Weekly_Sales  421570 non-null  float64\n",
            " 6   Temperature   421570 non-null  float64\n",
            " 7   Fuel_Price    421570 non-null  float64\n",
            " 8   MarkDown1     421570 non-null  float64\n",
            " 9   MarkDown2     421570 non-null  float64\n",
            " 10  MarkDown3     421570 non-null  float64\n",
            " 11  MarkDown4     421570 non-null  float64\n",
            " 12  MarkDown5     421570 non-null  float64\n",
            " 13  CPI           421570 non-null  float64\n",
            " 14  Unemployment  421570 non-null  float64\n",
            " 15  Type          421570 non-null  int64  \n",
            " 16  Size          421570 non-null  int64  \n",
            " 17  Event_Type    421570 non-null  object \n",
            "dtypes: float64(11), int64(5), object(2)\n",
            "memory usage: 57.9+ MB\n"
          ]
        }
      ],
      "source": [
        "data.info()"
      ]
    },
    {
      "cell_type": "code",
      "execution_count": 14,
      "metadata": {},
      "outputs": [
        {
          "data": {
            "text/plain": [
              "Unnamed: 0      0\n",
              "Store           0\n",
              "Date            0\n",
              "IsHoliday       0\n",
              "Dept            0\n",
              "Weekly_Sales    0\n",
              "Temperature     0\n",
              "Fuel_Price      0\n",
              "MarkDown1       0\n",
              "MarkDown2       0\n",
              "MarkDown3       0\n",
              "MarkDown4       0\n",
              "MarkDown5       0\n",
              "CPI             0\n",
              "Unemployment    0\n",
              "Type            0\n",
              "Size            0\n",
              "Event_Type      0\n",
              "dtype: int64"
            ]
          },
          "execution_count": 14,
          "metadata": {},
          "output_type": "execute_result"
        }
      ],
      "source": [
        "data.isna().sum()"
      ]
    },
    {
      "cell_type": "code",
      "execution_count": 45,
      "metadata": {},
      "outputs": [
        {
          "data": {
            "text/html": [
              "<div>\n",
              "<style scoped>\n",
              "    .dataframe tbody tr th:only-of-type {\n",
              "        vertical-align: middle;\n",
              "    }\n",
              "\n",
              "    .dataframe tbody tr th {\n",
              "        vertical-align: top;\n",
              "    }\n",
              "\n",
              "    .dataframe thead th {\n",
              "        text-align: right;\n",
              "    }\n",
              "</style>\n",
              "<table border=\"1\" class=\"dataframe\">\n",
              "  <thead>\n",
              "    <tr style=\"text-align: right;\">\n",
              "      <th></th>\n",
              "      <th>count</th>\n",
              "      <th>mean</th>\n",
              "      <th>std</th>\n",
              "      <th>min</th>\n",
              "      <th>25%</th>\n",
              "      <th>50%</th>\n",
              "      <th>75%</th>\n",
              "      <th>max</th>\n",
              "    </tr>\n",
              "  </thead>\n",
              "  <tbody>\n",
              "    <tr>\n",
              "      <th>Unnamed: 0</th>\n",
              "      <td>421570.0</td>\n",
              "      <td>211611.321278</td>\n",
              "      <td>122195.149363</td>\n",
              "      <td>0.000</td>\n",
              "      <td>105782.250000</td>\n",
              "      <td>211603.50000</td>\n",
              "      <td>317424.750000</td>\n",
              "      <td>423285.000000</td>\n",
              "    </tr>\n",
              "    <tr>\n",
              "      <th>Store</th>\n",
              "      <td>421570.0</td>\n",
              "      <td>22.200546</td>\n",
              "      <td>12.785297</td>\n",
              "      <td>1.000</td>\n",
              "      <td>11.000000</td>\n",
              "      <td>22.00000</td>\n",
              "      <td>33.000000</td>\n",
              "      <td>45.000000</td>\n",
              "    </tr>\n",
              "    <tr>\n",
              "      <th>IsHoliday</th>\n",
              "      <td>421570.0</td>\n",
              "      <td>0.070358</td>\n",
              "      <td>0.255750</td>\n",
              "      <td>0.000</td>\n",
              "      <td>0.000000</td>\n",
              "      <td>0.00000</td>\n",
              "      <td>0.000000</td>\n",
              "      <td>1.000000</td>\n",
              "    </tr>\n",
              "    <tr>\n",
              "      <th>Dept</th>\n",
              "      <td>421570.0</td>\n",
              "      <td>44.260317</td>\n",
              "      <td>30.492054</td>\n",
              "      <td>1.000</td>\n",
              "      <td>18.000000</td>\n",
              "      <td>37.00000</td>\n",
              "      <td>74.000000</td>\n",
              "      <td>99.000000</td>\n",
              "    </tr>\n",
              "    <tr>\n",
              "      <th>Weekly_Sales</th>\n",
              "      <td>421570.0</td>\n",
              "      <td>15981.258123</td>\n",
              "      <td>22711.183519</td>\n",
              "      <td>-4988.940</td>\n",
              "      <td>2079.650000</td>\n",
              "      <td>7612.03000</td>\n",
              "      <td>20205.852500</td>\n",
              "      <td>693099.360000</td>\n",
              "    </tr>\n",
              "    <tr>\n",
              "      <th>Temperature</th>\n",
              "      <td>421570.0</td>\n",
              "      <td>60.090059</td>\n",
              "      <td>18.447931</td>\n",
              "      <td>-2.060</td>\n",
              "      <td>46.680000</td>\n",
              "      <td>62.09000</td>\n",
              "      <td>74.280000</td>\n",
              "      <td>100.140000</td>\n",
              "    </tr>\n",
              "    <tr>\n",
              "      <th>Fuel_Price</th>\n",
              "      <td>421570.0</td>\n",
              "      <td>3.361027</td>\n",
              "      <td>0.458515</td>\n",
              "      <td>2.472</td>\n",
              "      <td>2.933000</td>\n",
              "      <td>3.45200</td>\n",
              "      <td>3.738000</td>\n",
              "      <td>4.468000</td>\n",
              "    </tr>\n",
              "    <tr>\n",
              "      <th>MarkDown1</th>\n",
              "      <td>421570.0</td>\n",
              "      <td>2590.074819</td>\n",
              "      <td>6052.385934</td>\n",
              "      <td>0.000</td>\n",
              "      <td>0.000000</td>\n",
              "      <td>0.00000</td>\n",
              "      <td>2809.050000</td>\n",
              "      <td>88646.760000</td>\n",
              "    </tr>\n",
              "    <tr>\n",
              "      <th>MarkDown2</th>\n",
              "      <td>421570.0</td>\n",
              "      <td>879.974298</td>\n",
              "      <td>5084.538801</td>\n",
              "      <td>-265.760</td>\n",
              "      <td>0.000000</td>\n",
              "      <td>0.00000</td>\n",
              "      <td>2.200000</td>\n",
              "      <td>104519.540000</td>\n",
              "    </tr>\n",
              "    <tr>\n",
              "      <th>MarkDown3</th>\n",
              "      <td>421570.0</td>\n",
              "      <td>468.087665</td>\n",
              "      <td>5528.873453</td>\n",
              "      <td>-29.100</td>\n",
              "      <td>0.000000</td>\n",
              "      <td>0.00000</td>\n",
              "      <td>4.540000</td>\n",
              "      <td>141630.610000</td>\n",
              "    </tr>\n",
              "    <tr>\n",
              "      <th>MarkDown4</th>\n",
              "      <td>421570.0</td>\n",
              "      <td>1083.132268</td>\n",
              "      <td>3894.529945</td>\n",
              "      <td>0.000</td>\n",
              "      <td>0.000000</td>\n",
              "      <td>0.00000</td>\n",
              "      <td>425.290000</td>\n",
              "      <td>67474.850000</td>\n",
              "    </tr>\n",
              "    <tr>\n",
              "      <th>MarkDown5</th>\n",
              "      <td>421570.0</td>\n",
              "      <td>1662.772385</td>\n",
              "      <td>4207.629321</td>\n",
              "      <td>0.000</td>\n",
              "      <td>0.000000</td>\n",
              "      <td>0.00000</td>\n",
              "      <td>2168.040000</td>\n",
              "      <td>108519.280000</td>\n",
              "    </tr>\n",
              "    <tr>\n",
              "      <th>CPI</th>\n",
              "      <td>421570.0</td>\n",
              "      <td>171.201947</td>\n",
              "      <td>39.159276</td>\n",
              "      <td>126.064</td>\n",
              "      <td>132.022667</td>\n",
              "      <td>182.31878</td>\n",
              "      <td>212.416993</td>\n",
              "      <td>227.232807</td>\n",
              "    </tr>\n",
              "    <tr>\n",
              "      <th>Unemployment</th>\n",
              "      <td>421570.0</td>\n",
              "      <td>7.960289</td>\n",
              "      <td>1.863296</td>\n",
              "      <td>3.879</td>\n",
              "      <td>6.891000</td>\n",
              "      <td>7.86600</td>\n",
              "      <td>8.572000</td>\n",
              "      <td>14.313000</td>\n",
              "    </tr>\n",
              "    <tr>\n",
              "      <th>Type</th>\n",
              "      <td>421570.0</td>\n",
              "      <td>2.410088</td>\n",
              "      <td>0.666337</td>\n",
              "      <td>1.000</td>\n",
              "      <td>2.000000</td>\n",
              "      <td>3.00000</td>\n",
              "      <td>3.000000</td>\n",
              "      <td>3.000000</td>\n",
              "    </tr>\n",
              "    <tr>\n",
              "      <th>Size</th>\n",
              "      <td>421570.0</td>\n",
              "      <td>136727.915739</td>\n",
              "      <td>60980.583328</td>\n",
              "      <td>34875.000</td>\n",
              "      <td>93638.000000</td>\n",
              "      <td>140167.00000</td>\n",
              "      <td>202505.000000</td>\n",
              "      <td>219622.000000</td>\n",
              "    </tr>\n",
              "  </tbody>\n",
              "</table>\n",
              "</div>"
            ],
            "text/plain": [
              "                 count           mean            std        min  \\\n",
              "Unnamed: 0    421570.0  211611.321278  122195.149363      0.000   \n",
              "Store         421570.0      22.200546      12.785297      1.000   \n",
              "IsHoliday     421570.0       0.070358       0.255750      0.000   \n",
              "Dept          421570.0      44.260317      30.492054      1.000   \n",
              "Weekly_Sales  421570.0   15981.258123   22711.183519  -4988.940   \n",
              "Temperature   421570.0      60.090059      18.447931     -2.060   \n",
              "Fuel_Price    421570.0       3.361027       0.458515      2.472   \n",
              "MarkDown1     421570.0    2590.074819    6052.385934      0.000   \n",
              "MarkDown2     421570.0     879.974298    5084.538801   -265.760   \n",
              "MarkDown3     421570.0     468.087665    5528.873453    -29.100   \n",
              "MarkDown4     421570.0    1083.132268    3894.529945      0.000   \n",
              "MarkDown5     421570.0    1662.772385    4207.629321      0.000   \n",
              "CPI           421570.0     171.201947      39.159276    126.064   \n",
              "Unemployment  421570.0       7.960289       1.863296      3.879   \n",
              "Type          421570.0       2.410088       0.666337      1.000   \n",
              "Size          421570.0  136727.915739   60980.583328  34875.000   \n",
              "\n",
              "                        25%           50%            75%            max  \n",
              "Unnamed: 0    105782.250000  211603.50000  317424.750000  423285.000000  \n",
              "Store             11.000000      22.00000      33.000000      45.000000  \n",
              "IsHoliday          0.000000       0.00000       0.000000       1.000000  \n",
              "Dept              18.000000      37.00000      74.000000      99.000000  \n",
              "Weekly_Sales    2079.650000    7612.03000   20205.852500  693099.360000  \n",
              "Temperature       46.680000      62.09000      74.280000     100.140000  \n",
              "Fuel_Price         2.933000       3.45200       3.738000       4.468000  \n",
              "MarkDown1          0.000000       0.00000    2809.050000   88646.760000  \n",
              "MarkDown2          0.000000       0.00000       2.200000  104519.540000  \n",
              "MarkDown3          0.000000       0.00000       4.540000  141630.610000  \n",
              "MarkDown4          0.000000       0.00000     425.290000   67474.850000  \n",
              "MarkDown5          0.000000       0.00000    2168.040000  108519.280000  \n",
              "CPI              132.022667     182.31878     212.416993     227.232807  \n",
              "Unemployment       6.891000       7.86600       8.572000      14.313000  \n",
              "Type               2.000000       3.00000       3.000000       3.000000  \n",
              "Size           93638.000000  140167.00000  202505.000000  219622.000000  "
            ]
          },
          "execution_count": 45,
          "metadata": {},
          "output_type": "execute_result"
        }
      ],
      "source": [
        "data.describe().T"
      ]
    },
    {
      "cell_type": "code",
      "execution_count": 46,
      "metadata": {},
      "outputs": [],
      "source": [
        "df_final = data.drop(['Unnamed: 0'],axis=1)"
      ]
    },
    {
      "cell_type": "code",
      "execution_count": 47,
      "metadata": {},
      "outputs": [
        {
          "data": {
            "text/plain": [
              "Index(['Store', 'Date', 'IsHoliday', 'Dept', 'Weekly_Sales', 'Temperature',\n",
              "       'Fuel_Price', 'MarkDown1', 'MarkDown2', 'MarkDown3', 'MarkDown4',\n",
              "       'MarkDown5', 'CPI', 'Unemployment', 'Type', 'Size', 'Event_Type'],\n",
              "      dtype='object')"
            ]
          },
          "execution_count": 47,
          "metadata": {},
          "output_type": "execute_result"
        }
      ],
      "source": [
        "df_final.columns"
      ]
    },
    {
      "cell_type": "code",
      "execution_count": 48,
      "metadata": {},
      "outputs": [
        {
          "data": {
            "text/plain": [
              "Weekly_Sales    1.000000\n",
              "Size            0.243828\n",
              "Type            0.182242\n",
              "Dept            0.148032\n",
              "MarkDown5       0.050465\n",
              "MarkDown1       0.047172\n",
              "MarkDown3       0.038562\n",
              "MarkDown4       0.037467\n",
              "MarkDown2       0.020716\n",
              "IsHoliday       0.012774\n",
              "Fuel_Price     -0.000120\n",
              "Temperature    -0.002312\n",
              "CPI            -0.020921\n",
              "Unemployment   -0.025864\n",
              "Store          -0.085195\n",
              "Name: Weekly_Sales, dtype: float64"
            ]
          },
          "execution_count": 48,
          "metadata": {},
          "output_type": "execute_result"
        }
      ],
      "source": [
        "#obtiene la correlacion de las variables con la variable objetivo (Weekly_Sales)\n",
        "corr_matrix = df_final[df_final.describe().columns].corr()\n",
        "corr_matrix[\"Weekly_Sales\"].sort_values(ascending=False)"
      ]
    },
    {
      "cell_type": "code",
      "execution_count": 49,
      "metadata": {
        "id": "u2UDdqFvVfQa"
      },
      "outputs": [
        {
          "data": {
            "text/html": [
              "<div>\n",
              "<style scoped>\n",
              "    .dataframe tbody tr th:only-of-type {\n",
              "        vertical-align: middle;\n",
              "    }\n",
              "\n",
              "    .dataframe tbody tr th {\n",
              "        vertical-align: top;\n",
              "    }\n",
              "\n",
              "    .dataframe thead th {\n",
              "        text-align: right;\n",
              "    }\n",
              "</style>\n",
              "<table border=\"1\" class=\"dataframe\">\n",
              "  <thead>\n",
              "    <tr style=\"text-align: right;\">\n",
              "      <th></th>\n",
              "      <th>Store</th>\n",
              "      <th>Date</th>\n",
              "      <th>IsHoliday</th>\n",
              "      <th>Dept</th>\n",
              "      <th>Weekly_Sales</th>\n",
              "      <th>Temperature</th>\n",
              "      <th>Fuel_Price</th>\n",
              "      <th>MarkDown1</th>\n",
              "      <th>MarkDown2</th>\n",
              "      <th>MarkDown3</th>\n",
              "      <th>MarkDown4</th>\n",
              "      <th>MarkDown5</th>\n",
              "      <th>CPI</th>\n",
              "      <th>Unemployment</th>\n",
              "      <th>Type</th>\n",
              "      <th>Size</th>\n",
              "      <th>Event_Type</th>\n",
              "    </tr>\n",
              "  </thead>\n",
              "  <tbody>\n",
              "    <tr>\n",
              "      <th>182</th>\n",
              "      <td>1</td>\n",
              "      <td>2010-02-19</td>\n",
              "      <td>0</td>\n",
              "      <td>47.0</td>\n",
              "      <td>-863.00</td>\n",
              "      <td>39.93</td>\n",
              "      <td>2.514</td>\n",
              "      <td>0.00</td>\n",
              "      <td>0.00</td>\n",
              "      <td>0.00</td>\n",
              "      <td>0.00</td>\n",
              "      <td>0.00</td>\n",
              "      <td>211.289143</td>\n",
              "      <td>8.106</td>\n",
              "      <td>3</td>\n",
              "      <td>151315</td>\n",
              "      <td>Normal</td>\n",
              "    </tr>\n",
              "    <tr>\n",
              "      <th>429</th>\n",
              "      <td>1</td>\n",
              "      <td>2010-03-12</td>\n",
              "      <td>0</td>\n",
              "      <td>47.0</td>\n",
              "      <td>-698.00</td>\n",
              "      <td>57.79</td>\n",
              "      <td>2.667</td>\n",
              "      <td>0.00</td>\n",
              "      <td>0.00</td>\n",
              "      <td>0.00</td>\n",
              "      <td>0.00</td>\n",
              "      <td>0.00</td>\n",
              "      <td>211.380643</td>\n",
              "      <td>8.106</td>\n",
              "      <td>3</td>\n",
              "      <td>151315</td>\n",
              "      <td>Normal</td>\n",
              "    </tr>\n",
              "    <tr>\n",
              "      <th>2555</th>\n",
              "      <td>1</td>\n",
              "      <td>2010-10-08</td>\n",
              "      <td>0</td>\n",
              "      <td>47.0</td>\n",
              "      <td>-58.00</td>\n",
              "      <td>63.93</td>\n",
              "      <td>2.633</td>\n",
              "      <td>0.00</td>\n",
              "      <td>0.00</td>\n",
              "      <td>0.00</td>\n",
              "      <td>0.00</td>\n",
              "      <td>0.00</td>\n",
              "      <td>211.746754</td>\n",
              "      <td>7.838</td>\n",
              "      <td>3</td>\n",
              "      <td>151315</td>\n",
              "      <td>Normal</td>\n",
              "    </tr>\n",
              "    <tr>\n",
              "      <th>3632</th>\n",
              "      <td>1</td>\n",
              "      <td>2011-01-21</td>\n",
              "      <td>0</td>\n",
              "      <td>54.0</td>\n",
              "      <td>-50.00</td>\n",
              "      <td>44.04</td>\n",
              "      <td>3.016</td>\n",
              "      <td>0.00</td>\n",
              "      <td>0.00</td>\n",
              "      <td>0.00</td>\n",
              "      <td>0.00</td>\n",
              "      <td>0.00</td>\n",
              "      <td>211.827234</td>\n",
              "      <td>7.742</td>\n",
              "      <td>3</td>\n",
              "      <td>151315</td>\n",
              "      <td>Normal</td>\n",
              "    </tr>\n",
              "    <tr>\n",
              "      <th>4382</th>\n",
              "      <td>1</td>\n",
              "      <td>2011-04-08</td>\n",
              "      <td>0</td>\n",
              "      <td>47.0</td>\n",
              "      <td>-298.00</td>\n",
              "      <td>67.84</td>\n",
              "      <td>3.622</td>\n",
              "      <td>0.00</td>\n",
              "      <td>0.00</td>\n",
              "      <td>0.00</td>\n",
              "      <td>0.00</td>\n",
              "      <td>0.00</td>\n",
              "      <td>215.074394</td>\n",
              "      <td>7.682</td>\n",
              "      <td>3</td>\n",
              "      <td>151315</td>\n",
              "      <td>Normal</td>\n",
              "    </tr>\n",
              "    <tr>\n",
              "      <th>...</th>\n",
              "      <td>...</td>\n",
              "      <td>...</td>\n",
              "      <td>...</td>\n",
              "      <td>...</td>\n",
              "      <td>...</td>\n",
              "      <td>...</td>\n",
              "      <td>...</td>\n",
              "      <td>...</td>\n",
              "      <td>...</td>\n",
              "      <td>...</td>\n",
              "      <td>...</td>\n",
              "      <td>...</td>\n",
              "      <td>...</td>\n",
              "      <td>...</td>\n",
              "      <td>...</td>\n",
              "      <td>...</td>\n",
              "      <td>...</td>\n",
              "    </tr>\n",
              "    <tr>\n",
              "      <th>419972</th>\n",
              "      <td>45</td>\n",
              "      <td>2012-05-18</td>\n",
              "      <td>0</td>\n",
              "      <td>49.0</td>\n",
              "      <td>-3.97</td>\n",
              "      <td>66.30</td>\n",
              "      <td>3.848</td>\n",
              "      <td>6813.74</td>\n",
              "      <td>0.00</td>\n",
              "      <td>13.86</td>\n",
              "      <td>936.49</td>\n",
              "      <td>2941.55</td>\n",
              "      <td>190.996448</td>\n",
              "      <td>8.567</td>\n",
              "      <td>2</td>\n",
              "      <td>118221</td>\n",
              "      <td>Normal</td>\n",
              "    </tr>\n",
              "    <tr>\n",
              "      <th>420031</th>\n",
              "      <td>45</td>\n",
              "      <td>2012-05-25</td>\n",
              "      <td>0</td>\n",
              "      <td>49.0</td>\n",
              "      <td>-4.97</td>\n",
              "      <td>67.21</td>\n",
              "      <td>3.798</td>\n",
              "      <td>5370.39</td>\n",
              "      <td>0.00</td>\n",
              "      <td>361.22</td>\n",
              "      <td>1287.62</td>\n",
              "      <td>2461.81</td>\n",
              "      <td>191.002810</td>\n",
              "      <td>8.567</td>\n",
              "      <td>2</td>\n",
              "      <td>118221</td>\n",
              "      <td>Normal</td>\n",
              "    </tr>\n",
              "    <tr>\n",
              "      <th>420370</th>\n",
              "      <td>45</td>\n",
              "      <td>2012-06-29</td>\n",
              "      <td>0</td>\n",
              "      <td>49.0</td>\n",
              "      <td>-34.00</td>\n",
              "      <td>75.22</td>\n",
              "      <td>3.506</td>\n",
              "      <td>3291.36</td>\n",
              "      <td>425.60</td>\n",
              "      <td>0.00</td>\n",
              "      <td>314.88</td>\n",
              "      <td>2255.34</td>\n",
              "      <td>191.099246</td>\n",
              "      <td>8.567</td>\n",
              "      <td>2</td>\n",
              "      <td>118221</td>\n",
              "      <td>Normal</td>\n",
              "    </tr>\n",
              "    <tr>\n",
              "      <th>420736</th>\n",
              "      <td>45</td>\n",
              "      <td>2012-08-03</td>\n",
              "      <td>0</td>\n",
              "      <td>49.0</td>\n",
              "      <td>-1.91</td>\n",
              "      <td>76.58</td>\n",
              "      <td>3.654</td>\n",
              "      <td>24853.05</td>\n",
              "      <td>39.56</td>\n",
              "      <td>17.96</td>\n",
              "      <td>11142.69</td>\n",
              "      <td>2768.32</td>\n",
              "      <td>191.164090</td>\n",
              "      <td>8.684</td>\n",
              "      <td>2</td>\n",
              "      <td>118221</td>\n",
              "      <td>Normal</td>\n",
              "    </tr>\n",
              "    <tr>\n",
              "      <th>421131</th>\n",
              "      <td>45</td>\n",
              "      <td>2012-09-14</td>\n",
              "      <td>0</td>\n",
              "      <td>49.0</td>\n",
              "      <td>-6.83</td>\n",
              "      <td>67.87</td>\n",
              "      <td>3.948</td>\n",
              "      <td>11407.95</td>\n",
              "      <td>0.00</td>\n",
              "      <td>4.30</td>\n",
              "      <td>3421.72</td>\n",
              "      <td>5268.92</td>\n",
              "      <td>191.699850</td>\n",
              "      <td>8.684</td>\n",
              "      <td>2</td>\n",
              "      <td>118221</td>\n",
              "      <td>Normal</td>\n",
              "    </tr>\n",
              "  </tbody>\n",
              "</table>\n",
              "<p>1285 rows × 17 columns</p>\n",
              "</div>"
            ],
            "text/plain": [
              "        Store        Date  IsHoliday  Dept  Weekly_Sales  Temperature  \\\n",
              "182         1  2010-02-19          0  47.0       -863.00        39.93   \n",
              "429         1  2010-03-12          0  47.0       -698.00        57.79   \n",
              "2555        1  2010-10-08          0  47.0        -58.00        63.93   \n",
              "3632        1  2011-01-21          0  54.0        -50.00        44.04   \n",
              "4382        1  2011-04-08          0  47.0       -298.00        67.84   \n",
              "...       ...         ...        ...   ...           ...          ...   \n",
              "419972     45  2012-05-18          0  49.0         -3.97        66.30   \n",
              "420031     45  2012-05-25          0  49.0         -4.97        67.21   \n",
              "420370     45  2012-06-29          0  49.0        -34.00        75.22   \n",
              "420736     45  2012-08-03          0  49.0         -1.91        76.58   \n",
              "421131     45  2012-09-14          0  49.0         -6.83        67.87   \n",
              "\n",
              "        Fuel_Price  MarkDown1  MarkDown2  MarkDown3  MarkDown4  MarkDown5  \\\n",
              "182          2.514       0.00       0.00       0.00       0.00       0.00   \n",
              "429          2.667       0.00       0.00       0.00       0.00       0.00   \n",
              "2555         2.633       0.00       0.00       0.00       0.00       0.00   \n",
              "3632         3.016       0.00       0.00       0.00       0.00       0.00   \n",
              "4382         3.622       0.00       0.00       0.00       0.00       0.00   \n",
              "...            ...        ...        ...        ...        ...        ...   \n",
              "419972       3.848    6813.74       0.00      13.86     936.49    2941.55   \n",
              "420031       3.798    5370.39       0.00     361.22    1287.62    2461.81   \n",
              "420370       3.506    3291.36     425.60       0.00     314.88    2255.34   \n",
              "420736       3.654   24853.05      39.56      17.96   11142.69    2768.32   \n",
              "421131       3.948   11407.95       0.00       4.30    3421.72    5268.92   \n",
              "\n",
              "               CPI  Unemployment  Type    Size Event_Type  \n",
              "182     211.289143         8.106     3  151315     Normal  \n",
              "429     211.380643         8.106     3  151315     Normal  \n",
              "2555    211.746754         7.838     3  151315     Normal  \n",
              "3632    211.827234         7.742     3  151315     Normal  \n",
              "4382    215.074394         7.682     3  151315     Normal  \n",
              "...            ...           ...   ...     ...        ...  \n",
              "419972  190.996448         8.567     2  118221     Normal  \n",
              "420031  191.002810         8.567     2  118221     Normal  \n",
              "420370  191.099246         8.567     2  118221     Normal  \n",
              "420736  191.164090         8.684     2  118221     Normal  \n",
              "421131  191.699850         8.684     2  118221     Normal  \n",
              "\n",
              "[1285 rows x 17 columns]"
            ]
          },
          "execution_count": 49,
          "metadata": {},
          "output_type": "execute_result"
        }
      ],
      "source": [
        "# Escriba su código acá\n",
        "df_final.query (\"Weekly_Sales < 0 or Unemployment < 0 or Fuel_Price < 0 or CPI < 0 \")"
      ]
    },
    {
      "cell_type": "code",
      "execution_count": 25,
      "metadata": {},
      "outputs": [
        {
          "data": {
            "image/png": "[encoded data removed]",
            "text/plain": [
              "<Figure size 640x480 with 1 Axes>"
            ]
          },
          "metadata": {},
          "output_type": "display_data"
        }
      ],
      "source": [
        "#Grafica de Weekly_Sales / Unemployment\n",
        "sb.scatterplot( y = df_final.Weekly_Sales, x = df_final.Unemployment)\n",
        "plt.title(\"Relacion Weekly_Sales / Unemployment\", fontsize = 16, fontweight = 'bold')\n",
        "plt.show()"
      ]
    },
    {
      "cell_type": "code",
      "execution_count": 32,
      "metadata": {},
      "outputs": [
        {
          "data": {
            "text/plain": [
              "382242"
            ]
          },
          "execution_count": 32,
          "metadata": {},
          "output_type": "execute_result"
        }
      ],
      "source": [
        "#Cantidad de datos con Unemployment < 10\n",
        "len(df_final.query(\"Unemployment < 10\"))"
      ]
    },
    {
      "cell_type": "code",
      "execution_count": 26,
      "metadata": {},
      "outputs": [
        {
          "data": {
            "image/png": "[encoded data removed]",
            "text/plain": [
              "<Figure size 640x480 with 1 Axes>"
            ]
          },
          "metadata": {},
          "output_type": "display_data"
        }
      ],
      "source": [
        "#Grafica de Weekly_Sales / Fuel_Price\n",
        "sb.scatterplot( y = df_final.Weekly_Sales, x = df_final.Fuel_Price)\n",
        "plt.title(\"Relacion Weekly_Sales / Fuel_Price\", fontsize = 16, fontweight = 'bold')\n",
        "plt.show()"
      ]
    },
    {
      "cell_type": "code",
      "execution_count": 33,
      "metadata": {},
      "outputs": [
        {
          "data": {
            "text/plain": [
              "420316"
            ]
          },
          "execution_count": 33,
          "metadata": {},
          "output_type": "execute_result"
        }
      ],
      "source": [
        "#Cantidad de datos con Fuel_Price < 4.3\n",
        "len(df_final.query(\"Fuel_Price < 4.3\"))"
      ]
    },
    {
      "cell_type": "code",
      "execution_count": 27,
      "metadata": {},
      "outputs": [
        {
          "data": {
            "image/png": "[encoded data removed]",
            "text/plain": [
              "<Figure size 640x480 with 1 Axes>"
            ]
          },
          "metadata": {},
          "output_type": "display_data"
        }
      ],
      "source": [
        "#Grafica de Weekly_Sales / CPI\n",
        "sb.scatterplot( y = df_final.Weekly_Sales, x = df_final.CPI)\n",
        "plt.title(\"Relacion Weekly_Sales / CPI\", fontsize = 16, fontweight = 'bold')\n",
        "plt.show()"
      ]
    },
    {
      "cell_type": "code",
      "execution_count": 34,
      "metadata": {},
      "outputs": [
        {
          "data": {
            "text/plain": [
              "207891"
            ]
          },
          "execution_count": 34,
          "metadata": {},
          "output_type": "execute_result"
        }
      ],
      "source": [
        "#Datos con CPI < 150\n",
        "len(df_final.query(\"CPI < 150\"))"
      ]
    },
    {
      "cell_type": "code",
      "execution_count": 35,
      "metadata": {},
      "outputs": [
        {
          "data": {
            "text/plain": [
              "213679"
            ]
          },
          "execution_count": 35,
          "metadata": {},
          "output_type": "execute_result"
        }
      ],
      "source": [
        "#Datos con CPI < 180\n",
        "len(df_final.query(\"CPI > 180\"))"
      ]
    },
    {
      "cell_type": "code",
      "execution_count": 36,
      "metadata": {},
      "outputs": [
        {
          "data": {
            "image/png": "[encoded data removed]",
            "text/plain": [
              "<Figure size 640x480 with 1 Axes>"
            ]
          },
          "metadata": {},
          "output_type": "display_data"
        }
      ],
      "source": [
        "#Grafica de Weekly_Sales / Temperature\n",
        "sb.scatterplot( y = df_final.Weekly_Sales, x = df_final.Temperature)\n",
        "plt.title(\"Relacion Weekly_Sales / Temperature\", fontsize = 16, fontweight = 'bold')\n",
        "plt.show()"
      ]
    },
    {
      "cell_type": "code",
      "execution_count": 37,
      "metadata": {},
      "outputs": [
        {
          "data": {
            "text/plain": [
              "69"
            ]
          },
          "execution_count": 37,
          "metadata": {},
          "output_type": "execute_result"
        }
      ],
      "source": [
        "len(df_final.query(\"Temperature < 0\"))"
      ]
    },
    {
      "cell_type": "code",
      "execution_count": 38,
      "metadata": {},
      "outputs": [
        {
          "data": {
            "image/png": "[encoded data removed]",
            "text/plain": [
              "<Figure size 640x480 with 1 Axes>"
            ]
          },
          "metadata": {},
          "output_type": "display_data"
        }
      ],
      "source": [
        "#Grafica de Weekly_Sales / IsHoliday\n",
        "sb.scatterplot( y = df_final.Weekly_Sales, x = df_final.IsHoliday)\n",
        "plt.title(\"Relacion Weekly_Sales / IsHoliday\", fontsize = 16, fontweight = 'bold')\n",
        "plt.show()"
      ]
    },
    {
      "cell_type": "code",
      "execution_count": 40,
      "metadata": {},
      "outputs": [
        {
          "data": {
            "text/plain": [
              "29661"
            ]
          },
          "execution_count": 40,
          "metadata": {},
          "output_type": "execute_result"
        }
      ],
      "source": [
        "#Cantidad de Weekly_Sales con IsHoliday == 1\n",
        "len(df_final.query (\"IsHoliday == 1\"))"
      ]
    },
    {
      "cell_type": "code",
      "execution_count": 41,
      "metadata": {},
      "outputs": [
        {
          "data": {
            "text/plain": [
              "391909"
            ]
          },
          "execution_count": 41,
          "metadata": {},
          "output_type": "execute_result"
        }
      ],
      "source": [
        "#Cantidad de Weekly_Sales con IsHoliday == 0\n",
        "len(df_final.query(\"IsHoliday == 0 \"))"
      ]
    },
    {
      "cell_type": "code",
      "execution_count": 42,
      "metadata": {},
      "outputs": [
        {
          "data": {
            "image/png": "[encoded data removed]",
            "text/plain": [
              "<Figure size 640x480 with 1 Axes>"
            ]
          },
          "metadata": {},
          "output_type": "display_data"
        }
      ],
      "source": [
        "#Grafica de Weekly_Sales / Event_Type\n",
        "sb.scatterplot( y = df_final.Weekly_Sales, x = df_final.Event_Type)\n",
        "plt.title(\"Relacion Weekly_Sales / Event_Type\", fontsize = 16, fontweight = 'bold')\n",
        "plt.show()"
      ]
    },
    {
      "cell_type": "code",
      "execution_count": 45,
      "metadata": {},
      "outputs": [
        {
          "data": {
            "text/plain": [
              "391909"
            ]
          },
          "execution_count": 45,
          "metadata": {},
          "output_type": "execute_result"
        }
      ],
      "source": [
        "#Cantidad de Weekly_Sales con Event_Type == 'Holiday'\n",
        "len(df_final.query(\"Event_Type == 'Normal' \"))"
      ]
    },
    {
      "cell_type": "code",
      "execution_count": 46,
      "metadata": {},
      "outputs": [
        {
          "data": {
            "text/plain": [
              "8895"
            ]
          },
          "execution_count": 46,
          "metadata": {},
          "output_type": "execute_result"
        }
      ],
      "source": [
        "#Cantidad de Weekly_Sales con Event_Type == 'Super Bowl'\n",
        "len(df_final.query(\"Event_Type == 'Super Bowl'\"))"
      ]
    },
    {
      "cell_type": "code",
      "execution_count": 48,
      "metadata": {},
      "outputs": [
        {
          "data": {
            "text/plain": [
              "8861"
            ]
          },
          "execution_count": 48,
          "metadata": {},
          "output_type": "execute_result"
        }
      ],
      "source": [
        "#Cantidad de Weekly_Sales con Event_Type == 'Labour Day'\n",
        "len(df_final.query(\"Event_Type == 'Labour Day'\"))"
      ]
    },
    {
      "cell_type": "code",
      "execution_count": 49,
      "metadata": {},
      "outputs": [
        {
          "data": {
            "text/plain": [
              "5959"
            ]
          },
          "execution_count": 49,
          "metadata": {},
          "output_type": "execute_result"
        }
      ],
      "source": [
        "#Cantidad de Weekly_Sales con Event_Type == 'Thanksgiving'\n",
        "len(df_final.query(\"Event_Type == 'Thanksgiving'\"))"
      ]
    },
    {
      "cell_type": "code",
      "execution_count": 50,
      "metadata": {},
      "outputs": [
        {
          "data": {
            "text/plain": [
              "5946"
            ]
          },
          "execution_count": 50,
          "metadata": {},
          "output_type": "execute_result"
        }
      ],
      "source": [
        "#Cantidad de Weekly_Sales con Event_Type == 'Christmas'\n",
        "len(df_final.query(\"Event_Type == 'Christmas'\"))"
      ]
    },
    {
      "cell_type": "markdown",
      "metadata": {
        "id": "4m02vmmrzZq0"
      },
      "source": [
        "# Fase 3 - Preparación de los datos"
      ]
    },
    {
      "cell_type": "markdown",
      "metadata": {},
      "source": [
        "Tratamiento de valores atipicos (Outliers)"
      ]
    },
    {
      "cell_type": "code",
      "execution_count": 52,
      "metadata": {},
      "outputs": [
        {
          "data": {
            "image/png": "[encoded data removed]",
            "text/plain": [
              "<Figure size 1000x600 with 1 Axes>"
            ]
          },
          "metadata": {},
          "output_type": "display_data"
        }
      ],
      "source": [
        "# Diagrama de caja para observar valores atipicos en las Weekly_Sales\n",
        "plt.figure(figsize=(10, 6))\n",
        "sb.boxplot(y=data['Weekly_Sales'])\n",
        "\n",
        "# Añadir título y etiquetas\n",
        "plt.title('Análisis de Valores Atípicos en Weekly_Sales')\n",
        "plt.xlabel('Weekly_Sales')\n",
        "\n",
        "# Mostrar la gráfica\n",
        "plt.show()"
      ]
    },
    {
      "cell_type": "code",
      "execution_count": 53,
      "metadata": {},
      "outputs": [
        {
          "data": {
            "text/plain": [
              "163"
            ]
          },
          "execution_count": 53,
          "metadata": {},
          "output_type": "execute_result"
        }
      ],
      "source": [
        "#Cantidad de datos con Weekly_Sales mayores a 200000\n",
        "len(df_final.query(\"Weekly_Sales > 200000\"))"
      ]
    },
    {
      "cell_type": "code",
      "execution_count": 59,
      "metadata": {},
      "outputs": [
        {
          "data": {
            "text/plain": [
              "421407"
            ]
          },
          "execution_count": 59,
          "metadata": {},
          "output_type": "execute_result"
        }
      ],
      "source": [
        "#Cantidad de datos con Weekly_Sales menores a 200000\n",
        "len(df_final.query(\"Weekly_Sales < 200000\"))"
      ]
    },
    {
      "cell_type": "code",
      "execution_count": 50,
      "metadata": {},
      "outputs": [
        {
          "data": {
            "text/plain": [
              "1285"
            ]
          },
          "execution_count": 50,
          "metadata": {},
          "output_type": "execute_result"
        }
      ],
      "source": [
        "#Cantidad de datos con Weekly_Sales menores a 0\n",
        "len(df_final.query(\"Weekly_Sales < 0\"))"
      ]
    },
    {
      "cell_type": "code",
      "execution_count": 60,
      "metadata": {},
      "outputs": [
        {
          "data": {
            "text/html": [
              "<div>\n",
              "<style scoped>\n",
              "    .dataframe tbody tr th:only-of-type {\n",
              "        vertical-align: middle;\n",
              "    }\n",
              "\n",
              "    .dataframe tbody tr th {\n",
              "        vertical-align: top;\n",
              "    }\n",
              "\n",
              "    .dataframe thead th {\n",
              "        text-align: right;\n",
              "    }\n",
              "</style>\n",
              "<table border=\"1\" class=\"dataframe\">\n",
              "  <thead>\n",
              "    <tr style=\"text-align: right;\">\n",
              "      <th></th>\n",
              "      <th>Store</th>\n",
              "      <th>Date</th>\n",
              "      <th>IsHoliday</th>\n",
              "      <th>Dept</th>\n",
              "      <th>Weekly_Sales</th>\n",
              "      <th>Temperature</th>\n",
              "      <th>Fuel_Price</th>\n",
              "      <th>MarkDown1</th>\n",
              "      <th>MarkDown2</th>\n",
              "      <th>MarkDown3</th>\n",
              "      <th>MarkDown4</th>\n",
              "      <th>MarkDown5</th>\n",
              "      <th>CPI</th>\n",
              "      <th>Unemployment</th>\n",
              "      <th>Type</th>\n",
              "      <th>Size</th>\n",
              "      <th>Event_Type</th>\n",
              "    </tr>\n",
              "  </thead>\n",
              "  <tbody>\n",
              "    <tr>\n",
              "      <th>6767</th>\n",
              "      <td>1</td>\n",
              "      <td>2011-11-25</td>\n",
              "      <td>1</td>\n",
              "      <td>72.0</td>\n",
              "      <td>203670.47</td>\n",
              "      <td>60.14</td>\n",
              "      <td>3.236</td>\n",
              "      <td>410.31</td>\n",
              "      <td>98.00</td>\n",
              "      <td>55805.51</td>\n",
              "      <td>8.00</td>\n",
              "      <td>554.92</td>\n",
              "      <td>218.467621</td>\n",
              "      <td>7.866</td>\n",
              "      <td>3</td>\n",
              "      <td>151315</td>\n",
              "      <td>Thanksgiving</td>\n",
              "    </tr>\n",
              "    <tr>\n",
              "      <th>13225</th>\n",
              "      <td>2</td>\n",
              "      <td>2010-11-19</td>\n",
              "      <td>0</td>\n",
              "      <td>92.0</td>\n",
              "      <td>205829.42</td>\n",
              "      <td>50.81</td>\n",
              "      <td>2.771</td>\n",
              "      <td>0.00</td>\n",
              "      <td>0.00</td>\n",
              "      <td>0.00</td>\n",
              "      <td>0.00</td>\n",
              "      <td>0.00</td>\n",
              "      <td>211.547030</td>\n",
              "      <td>8.163</td>\n",
              "      <td>3</td>\n",
              "      <td>202307</td>\n",
              "      <td>Normal</td>\n",
              "    </tr>\n",
              "    <tr>\n",
              "      <th>13248</th>\n",
              "      <td>2</td>\n",
              "      <td>2010-11-26</td>\n",
              "      <td>1</td>\n",
              "      <td>72.0</td>\n",
              "      <td>285353.53</td>\n",
              "      <td>62.98</td>\n",
              "      <td>2.735</td>\n",
              "      <td>0.00</td>\n",
              "      <td>0.00</td>\n",
              "      <td>0.00</td>\n",
              "      <td>0.00</td>\n",
              "      <td>0.00</td>\n",
              "      <td>211.406287</td>\n",
              "      <td>8.163</td>\n",
              "      <td>3</td>\n",
              "      <td>202307</td>\n",
              "      <td>Thanksgiving</td>\n",
              "    </tr>\n",
              "    <tr>\n",
              "      <th>13298</th>\n",
              "      <td>2</td>\n",
              "      <td>2010-11-26</td>\n",
              "      <td>1</td>\n",
              "      <td>92.0</td>\n",
              "      <td>219880.49</td>\n",
              "      <td>62.98</td>\n",
              "      <td>2.735</td>\n",
              "      <td>0.00</td>\n",
              "      <td>0.00</td>\n",
              "      <td>0.00</td>\n",
              "      <td>0.00</td>\n",
              "      <td>0.00</td>\n",
              "      <td>211.406287</td>\n",
              "      <td>8.163</td>\n",
              "      <td>3</td>\n",
              "      <td>202307</td>\n",
              "      <td>Thanksgiving</td>\n",
              "    </tr>\n",
              "    <tr>\n",
              "      <th>13516</th>\n",
              "      <td>2</td>\n",
              "      <td>2010-12-17</td>\n",
              "      <td>0</td>\n",
              "      <td>92.0</td>\n",
              "      <td>201863.27</td>\n",
              "      <td>47.55</td>\n",
              "      <td>2.869</td>\n",
              "      <td>0.00</td>\n",
              "      <td>0.00</td>\n",
              "      <td>0.00</td>\n",
              "      <td>0.00</td>\n",
              "      <td>0.00</td>\n",
              "      <td>211.064546</td>\n",
              "      <td>8.163</td>\n",
              "      <td>3</td>\n",
              "      <td>202307</td>\n",
              "      <td>Normal</td>\n",
              "    </tr>\n",
              "    <tr>\n",
              "      <th>...</th>\n",
              "      <td>...</td>\n",
              "      <td>...</td>\n",
              "      <td>...</td>\n",
              "      <td>...</td>\n",
              "      <td>...</td>\n",
              "      <td>...</td>\n",
              "      <td>...</td>\n",
              "      <td>...</td>\n",
              "      <td>...</td>\n",
              "      <td>...</td>\n",
              "      <td>...</td>\n",
              "      <td>...</td>\n",
              "      <td>...</td>\n",
              "      <td>...</td>\n",
              "      <td>...</td>\n",
              "      <td>...</td>\n",
              "      <td>...</td>\n",
              "    </tr>\n",
              "    <tr>\n",
              "      <th>367602</th>\n",
              "      <td>39</td>\n",
              "      <td>2011-11-25</td>\n",
              "      <td>1</td>\n",
              "      <td>72.0</td>\n",
              "      <td>351553.98</td>\n",
              "      <td>66.36</td>\n",
              "      <td>3.236</td>\n",
              "      <td>224.08</td>\n",
              "      <td>292.94</td>\n",
              "      <td>77126.16</td>\n",
              "      <td>77.74</td>\n",
              "      <td>4875.43</td>\n",
              "      <td>217.181253</td>\n",
              "      <td>7.716</td>\n",
              "      <td>3</td>\n",
              "      <td>184109</td>\n",
              "      <td>Thanksgiving</td>\n",
              "    </tr>\n",
              "    <tr>\n",
              "      <th>367900</th>\n",
              "      <td>39</td>\n",
              "      <td>2011-12-23</td>\n",
              "      <td>0</td>\n",
              "      <td>7.0</td>\n",
              "      <td>225134.39</td>\n",
              "      <td>54.62</td>\n",
              "      <td>3.112</td>\n",
              "      <td>3099.34</td>\n",
              "      <td>16.14</td>\n",
              "      <td>1339.10</td>\n",
              "      <td>213.49</td>\n",
              "      <td>4911.65</td>\n",
              "      <td>218.054185</td>\n",
              "      <td>7.716</td>\n",
              "      <td>3</td>\n",
              "      <td>184109</td>\n",
              "      <td>Normal</td>\n",
              "    </tr>\n",
              "    <tr>\n",
              "      <th>383960</th>\n",
              "      <td>41</td>\n",
              "      <td>2010-11-26</td>\n",
              "      <td>1</td>\n",
              "      <td>72.0</td>\n",
              "      <td>290809.17</td>\n",
              "      <td>25.30</td>\n",
              "      <td>2.742</td>\n",
              "      <td>0.00</td>\n",
              "      <td>0.00</td>\n",
              "      <td>0.00</td>\n",
              "      <td>0.00</td>\n",
              "      <td>0.00</td>\n",
              "      <td>191.012180</td>\n",
              "      <td>7.508</td>\n",
              "      <td>3</td>\n",
              "      <td>196321</td>\n",
              "      <td>Thanksgiving</td>\n",
              "    </tr>\n",
              "    <tr>\n",
              "      <th>387592</th>\n",
              "      <td>41</td>\n",
              "      <td>2011-11-25</td>\n",
              "      <td>1</td>\n",
              "      <td>72.0</td>\n",
              "      <td>271392.45</td>\n",
              "      <td>36.37</td>\n",
              "      <td>3.424</td>\n",
              "      <td>256.95</td>\n",
              "      <td>1053.98</td>\n",
              "      <td>79621.20</td>\n",
              "      <td>40.76</td>\n",
              "      <td>2616.56</td>\n",
              "      <td>195.770400</td>\n",
              "      <td>6.759</td>\n",
              "      <td>3</td>\n",
              "      <td>196321</td>\n",
              "      <td>Thanksgiving</td>\n",
              "    </tr>\n",
              "    <tr>\n",
              "      <th>414749</th>\n",
              "      <td>45</td>\n",
              "      <td>2010-11-26</td>\n",
              "      <td>1</td>\n",
              "      <td>72.0</td>\n",
              "      <td>240758.86</td>\n",
              "      <td>46.15</td>\n",
              "      <td>3.039</td>\n",
              "      <td>0.00</td>\n",
              "      <td>0.00</td>\n",
              "      <td>0.00</td>\n",
              "      <td>0.00</td>\n",
              "      <td>0.00</td>\n",
              "      <td>182.783277</td>\n",
              "      <td>8.724</td>\n",
              "      <td>2</td>\n",
              "      <td>118221</td>\n",
              "      <td>Thanksgiving</td>\n",
              "    </tr>\n",
              "  </tbody>\n",
              "</table>\n",
              "<p>163 rows × 17 columns</p>\n",
              "</div>"
            ],
            "text/plain": [
              "        Store        Date  IsHoliday  Dept  Weekly_Sales  Temperature  \\\n",
              "6767        1  2011-11-25          1  72.0     203670.47        60.14   \n",
              "13225       2  2010-11-19          0  92.0     205829.42        50.81   \n",
              "13248       2  2010-11-26          1  72.0     285353.53        62.98   \n",
              "13298       2  2010-11-26          1  92.0     219880.49        62.98   \n",
              "13516       2  2010-12-17          0  92.0     201863.27        47.55   \n",
              "...       ...         ...        ...   ...           ...          ...   \n",
              "367602     39  2011-11-25          1  72.0     351553.98        66.36   \n",
              "367900     39  2011-12-23          0   7.0     225134.39        54.62   \n",
              "383960     41  2010-11-26          1  72.0     290809.17        25.30   \n",
              "387592     41  2011-11-25          1  72.0     271392.45        36.37   \n",
              "414749     45  2010-11-26          1  72.0     240758.86        46.15   \n",
              "\n",
              "        Fuel_Price  MarkDown1  MarkDown2  MarkDown3  MarkDown4  MarkDown5  \\\n",
              "6767         3.236     410.31      98.00   55805.51       8.00     554.92   \n",
              "13225        2.771       0.00       0.00       0.00       0.00       0.00   \n",
              "13248        2.735       0.00       0.00       0.00       0.00       0.00   \n",
              "13298        2.735       0.00       0.00       0.00       0.00       0.00   \n",
              "13516        2.869       0.00       0.00       0.00       0.00       0.00   \n",
              "...            ...        ...        ...        ...        ...        ...   \n",
              "367602       3.236     224.08     292.94   77126.16      77.74    4875.43   \n",
              "367900       3.112    3099.34      16.14    1339.10     213.49    4911.65   \n",
              "383960       2.742       0.00       0.00       0.00       0.00       0.00   \n",
              "387592       3.424     256.95    1053.98   79621.20      40.76    2616.56   \n",
              "414749       3.039       0.00       0.00       0.00       0.00       0.00   \n",
              "\n",
              "               CPI  Unemployment  Type    Size    Event_Type  \n",
              "6767    218.467621         7.866     3  151315  Thanksgiving  \n",
              "13225   211.547030         8.163     3  202307        Normal  \n",
              "13248   211.406287         8.163     3  202307  Thanksgiving  \n",
              "13298   211.406287         8.163     3  202307  Thanksgiving  \n",
              "13516   211.064546         8.163     3  202307        Normal  \n",
              "...            ...           ...   ...     ...           ...  \n",
              "367602  217.181253         7.716     3  184109  Thanksgiving  \n",
              "367900  218.054185         7.716     3  184109        Normal  \n",
              "383960  191.012180         7.508     3  196321  Thanksgiving  \n",
              "387592  195.770400         6.759     3  196321  Thanksgiving  \n",
              "414749  182.783277         8.724     2  118221  Thanksgiving  \n",
              "\n",
              "[163 rows x 17 columns]"
            ]
          },
          "execution_count": 60,
          "metadata": {},
          "output_type": "execute_result"
        }
      ],
      "source": [
        "#Identificacion de los registros\n",
        "df_final.query(\"Weekly_Sales > 200000\")"
      ]
    },
    {
      "cell_type": "code",
      "execution_count": 51,
      "metadata": {},
      "outputs": [
        {
          "data": {
            "text/plain": [
              "Index([  6767,  13225,  13248,  13298,  13516,  13537,  13566,  13574,  16913,\n",
              "        16989,\n",
              "       ...\n",
              "       333606, 333874, 337045, 363988, 364261, 367602, 367900, 383960, 387592,\n",
              "       414749],\n",
              "      dtype='int64', length=163)"
            ]
          },
          "execution_count": 51,
          "metadata": {},
          "output_type": "execute_result"
        }
      ],
      "source": [
        "#obtener los indices donde estan ubicados los valores atipicos\n",
        "df_final.query(\"Weekly_Sales > 200000\").index"
      ]
    },
    {
      "cell_type": "code",
      "execution_count": 52,
      "metadata": {},
      "outputs": [],
      "source": [
        "#Eliminar los valores atipicos\n",
        "df_final.drop(df_final.query(\"Weekly_Sales > 200000\").index, inplace = True)"
      ]
    },
    {
      "cell_type": "code",
      "execution_count": 60,
      "metadata": {},
      "outputs": [
        {
          "data": {
            "text/html": [
              "<div>\n",
              "<style scoped>\n",
              "    .dataframe tbody tr th:only-of-type {\n",
              "        vertical-align: middle;\n",
              "    }\n",
              "\n",
              "    .dataframe tbody tr th {\n",
              "        vertical-align: top;\n",
              "    }\n",
              "\n",
              "    .dataframe thead th {\n",
              "        text-align: right;\n",
              "    }\n",
              "</style>\n",
              "<table border=\"1\" class=\"dataframe\">\n",
              "  <thead>\n",
              "    <tr style=\"text-align: right;\">\n",
              "      <th></th>\n",
              "      <th>Store</th>\n",
              "      <th>IsHoliday</th>\n",
              "      <th>Dept</th>\n",
              "      <th>Weekly_Sales</th>\n",
              "      <th>Temperature</th>\n",
              "      <th>Fuel_Price</th>\n",
              "      <th>MarkDown1</th>\n",
              "      <th>MarkDown2</th>\n",
              "      <th>MarkDown3</th>\n",
              "      <th>MarkDown4</th>\n",
              "      <th>MarkDown5</th>\n",
              "      <th>CPI</th>\n",
              "      <th>Unemployment</th>\n",
              "      <th>Type</th>\n",
              "      <th>Size</th>\n",
              "      <th>Event_Type</th>\n",
              "      <th>Quarter</th>\n",
              "    </tr>\n",
              "  </thead>\n",
              "  <tbody>\n",
              "    <tr>\n",
              "      <th>0</th>\n",
              "      <td>1</td>\n",
              "      <td>0</td>\n",
              "      <td>1.0</td>\n",
              "      <td>24924.50</td>\n",
              "      <td>42.31</td>\n",
              "      <td>2.572</td>\n",
              "      <td>0.0</td>\n",
              "      <td>0.0</td>\n",
              "      <td>0.0</td>\n",
              "      <td>0.0</td>\n",
              "      <td>0.0</td>\n",
              "      <td>211.096358</td>\n",
              "      <td>8.106</td>\n",
              "      <td>3</td>\n",
              "      <td>151315</td>\n",
              "      <td>Normal</td>\n",
              "      <td>Trimestre1</td>\n",
              "    </tr>\n",
              "    <tr>\n",
              "      <th>1</th>\n",
              "      <td>1</td>\n",
              "      <td>0</td>\n",
              "      <td>26.0</td>\n",
              "      <td>11737.12</td>\n",
              "      <td>42.31</td>\n",
              "      <td>2.572</td>\n",
              "      <td>0.0</td>\n",
              "      <td>0.0</td>\n",
              "      <td>0.0</td>\n",
              "      <td>0.0</td>\n",
              "      <td>0.0</td>\n",
              "      <td>211.096358</td>\n",
              "      <td>8.106</td>\n",
              "      <td>3</td>\n",
              "      <td>151315</td>\n",
              "      <td>Normal</td>\n",
              "      <td>Trimestre1</td>\n",
              "    </tr>\n",
              "    <tr>\n",
              "      <th>2</th>\n",
              "      <td>1</td>\n",
              "      <td>0</td>\n",
              "      <td>17.0</td>\n",
              "      <td>13223.76</td>\n",
              "      <td>42.31</td>\n",
              "      <td>2.572</td>\n",
              "      <td>0.0</td>\n",
              "      <td>0.0</td>\n",
              "      <td>0.0</td>\n",
              "      <td>0.0</td>\n",
              "      <td>0.0</td>\n",
              "      <td>211.096358</td>\n",
              "      <td>8.106</td>\n",
              "      <td>3</td>\n",
              "      <td>151315</td>\n",
              "      <td>Normal</td>\n",
              "      <td>Trimestre1</td>\n",
              "    </tr>\n",
              "    <tr>\n",
              "      <th>3</th>\n",
              "      <td>1</td>\n",
              "      <td>0</td>\n",
              "      <td>45.0</td>\n",
              "      <td>37.44</td>\n",
              "      <td>42.31</td>\n",
              "      <td>2.572</td>\n",
              "      <td>0.0</td>\n",
              "      <td>0.0</td>\n",
              "      <td>0.0</td>\n",
              "      <td>0.0</td>\n",
              "      <td>0.0</td>\n",
              "      <td>211.096358</td>\n",
              "      <td>8.106</td>\n",
              "      <td>3</td>\n",
              "      <td>151315</td>\n",
              "      <td>Normal</td>\n",
              "      <td>Trimestre1</td>\n",
              "    </tr>\n",
              "    <tr>\n",
              "      <th>4</th>\n",
              "      <td>1</td>\n",
              "      <td>0</td>\n",
              "      <td>28.0</td>\n",
              "      <td>1085.29</td>\n",
              "      <td>42.31</td>\n",
              "      <td>2.572</td>\n",
              "      <td>0.0</td>\n",
              "      <td>0.0</td>\n",
              "      <td>0.0</td>\n",
              "      <td>0.0</td>\n",
              "      <td>0.0</td>\n",
              "      <td>211.096358</td>\n",
              "      <td>8.106</td>\n",
              "      <td>3</td>\n",
              "      <td>151315</td>\n",
              "      <td>Normal</td>\n",
              "      <td>Trimestre1</td>\n",
              "    </tr>\n",
              "  </tbody>\n",
              "</table>\n",
              "</div>"
            ],
            "text/plain": [
              "   Store  IsHoliday  Dept  Weekly_Sales  Temperature  Fuel_Price  MarkDown1  \\\n",
              "0      1          0   1.0      24924.50        42.31       2.572        0.0   \n",
              "1      1          0  26.0      11737.12        42.31       2.572        0.0   \n",
              "2      1          0  17.0      13223.76        42.31       2.572        0.0   \n",
              "3      1          0  45.0         37.44        42.31       2.572        0.0   \n",
              "4      1          0  28.0       1085.29        42.31       2.572        0.0   \n",
              "\n",
              "   MarkDown2  MarkDown3  MarkDown4  MarkDown5         CPI  Unemployment  Type  \\\n",
              "0        0.0        0.0        0.0        0.0  211.096358         8.106     3   \n",
              "1        0.0        0.0        0.0        0.0  211.096358         8.106     3   \n",
              "2        0.0        0.0        0.0        0.0  211.096358         8.106     3   \n",
              "3        0.0        0.0        0.0        0.0  211.096358         8.106     3   \n",
              "4        0.0        0.0        0.0        0.0  211.096358         8.106     3   \n",
              "\n",
              "     Size Event_Type     Quarter  \n",
              "0  151315     Normal  Trimestre1  \n",
              "1  151315     Normal  Trimestre1  \n",
              "2  151315     Normal  Trimestre1  \n",
              "3  151315     Normal  Trimestre1  \n",
              "4  151315     Normal  Trimestre1  "
            ]
          },
          "execution_count": 60,
          "metadata": {},
          "output_type": "execute_result"
        }
      ],
      "source": [
        "df_final.head()"
      ]
    },
    {
      "cell_type": "code",
      "execution_count": 54,
      "metadata": {},
      "outputs": [
        {
          "data": {
            "text/html": [
              "<div>\n",
              "<style scoped>\n",
              "    .dataframe tbody tr th:only-of-type {\n",
              "        vertical-align: middle;\n",
              "    }\n",
              "\n",
              "    .dataframe tbody tr th {\n",
              "        vertical-align: top;\n",
              "    }\n",
              "\n",
              "    .dataframe thead th {\n",
              "        text-align: right;\n",
              "    }\n",
              "</style>\n",
              "<table border=\"1\" class=\"dataframe\">\n",
              "  <thead>\n",
              "    <tr style=\"text-align: right;\">\n",
              "      <th></th>\n",
              "      <th>Store</th>\n",
              "      <th>Date</th>\n",
              "      <th>IsHoliday</th>\n",
              "      <th>Dept</th>\n",
              "      <th>Weekly_Sales</th>\n",
              "      <th>Temperature</th>\n",
              "      <th>Fuel_Price</th>\n",
              "      <th>MarkDown1</th>\n",
              "      <th>MarkDown2</th>\n",
              "      <th>MarkDown3</th>\n",
              "      <th>MarkDown4</th>\n",
              "      <th>MarkDown5</th>\n",
              "      <th>CPI</th>\n",
              "      <th>Unemployment</th>\n",
              "      <th>Type</th>\n",
              "      <th>Size</th>\n",
              "      <th>Event_Type</th>\n",
              "    </tr>\n",
              "  </thead>\n",
              "  <tbody>\n",
              "    <tr>\n",
              "      <th>182</th>\n",
              "      <td>1</td>\n",
              "      <td>2010-02-19</td>\n",
              "      <td>0</td>\n",
              "      <td>47.0</td>\n",
              "      <td>-863.00</td>\n",
              "      <td>39.93</td>\n",
              "      <td>2.514</td>\n",
              "      <td>0.00</td>\n",
              "      <td>0.00</td>\n",
              "      <td>0.00</td>\n",
              "      <td>0.00</td>\n",
              "      <td>0.00</td>\n",
              "      <td>211.289143</td>\n",
              "      <td>8.106</td>\n",
              "      <td>3</td>\n",
              "      <td>151315</td>\n",
              "      <td>Normal</td>\n",
              "    </tr>\n",
              "    <tr>\n",
              "      <th>429</th>\n",
              "      <td>1</td>\n",
              "      <td>2010-03-12</td>\n",
              "      <td>0</td>\n",
              "      <td>47.0</td>\n",
              "      <td>-698.00</td>\n",
              "      <td>57.79</td>\n",
              "      <td>2.667</td>\n",
              "      <td>0.00</td>\n",
              "      <td>0.00</td>\n",
              "      <td>0.00</td>\n",
              "      <td>0.00</td>\n",
              "      <td>0.00</td>\n",
              "      <td>211.380643</td>\n",
              "      <td>8.106</td>\n",
              "      <td>3</td>\n",
              "      <td>151315</td>\n",
              "      <td>Normal</td>\n",
              "    </tr>\n",
              "    <tr>\n",
              "      <th>2555</th>\n",
              "      <td>1</td>\n",
              "      <td>2010-10-08</td>\n",
              "      <td>0</td>\n",
              "      <td>47.0</td>\n",
              "      <td>-58.00</td>\n",
              "      <td>63.93</td>\n",
              "      <td>2.633</td>\n",
              "      <td>0.00</td>\n",
              "      <td>0.00</td>\n",
              "      <td>0.00</td>\n",
              "      <td>0.00</td>\n",
              "      <td>0.00</td>\n",
              "      <td>211.746754</td>\n",
              "      <td>7.838</td>\n",
              "      <td>3</td>\n",
              "      <td>151315</td>\n",
              "      <td>Normal</td>\n",
              "    </tr>\n",
              "    <tr>\n",
              "      <th>3632</th>\n",
              "      <td>1</td>\n",
              "      <td>2011-01-21</td>\n",
              "      <td>0</td>\n",
              "      <td>54.0</td>\n",
              "      <td>-50.00</td>\n",
              "      <td>44.04</td>\n",
              "      <td>3.016</td>\n",
              "      <td>0.00</td>\n",
              "      <td>0.00</td>\n",
              "      <td>0.00</td>\n",
              "      <td>0.00</td>\n",
              "      <td>0.00</td>\n",
              "      <td>211.827234</td>\n",
              "      <td>7.742</td>\n",
              "      <td>3</td>\n",
              "      <td>151315</td>\n",
              "      <td>Normal</td>\n",
              "    </tr>\n",
              "    <tr>\n",
              "      <th>4382</th>\n",
              "      <td>1</td>\n",
              "      <td>2011-04-08</td>\n",
              "      <td>0</td>\n",
              "      <td>47.0</td>\n",
              "      <td>-298.00</td>\n",
              "      <td>67.84</td>\n",
              "      <td>3.622</td>\n",
              "      <td>0.00</td>\n",
              "      <td>0.00</td>\n",
              "      <td>0.00</td>\n",
              "      <td>0.00</td>\n",
              "      <td>0.00</td>\n",
              "      <td>215.074394</td>\n",
              "      <td>7.682</td>\n",
              "      <td>3</td>\n",
              "      <td>151315</td>\n",
              "      <td>Normal</td>\n",
              "    </tr>\n",
              "    <tr>\n",
              "      <th>...</th>\n",
              "      <td>...</td>\n",
              "      <td>...</td>\n",
              "      <td>...</td>\n",
              "      <td>...</td>\n",
              "      <td>...</td>\n",
              "      <td>...</td>\n",
              "      <td>...</td>\n",
              "      <td>...</td>\n",
              "      <td>...</td>\n",
              "      <td>...</td>\n",
              "      <td>...</td>\n",
              "      <td>...</td>\n",
              "      <td>...</td>\n",
              "      <td>...</td>\n",
              "      <td>...</td>\n",
              "      <td>...</td>\n",
              "      <td>...</td>\n",
              "    </tr>\n",
              "    <tr>\n",
              "      <th>419972</th>\n",
              "      <td>45</td>\n",
              "      <td>2012-05-18</td>\n",
              "      <td>0</td>\n",
              "      <td>49.0</td>\n",
              "      <td>-3.97</td>\n",
              "      <td>66.30</td>\n",
              "      <td>3.848</td>\n",
              "      <td>6813.74</td>\n",
              "      <td>0.00</td>\n",
              "      <td>13.86</td>\n",
              "      <td>936.49</td>\n",
              "      <td>2941.55</td>\n",
              "      <td>190.996448</td>\n",
              "      <td>8.567</td>\n",
              "      <td>2</td>\n",
              "      <td>118221</td>\n",
              "      <td>Normal</td>\n",
              "    </tr>\n",
              "    <tr>\n",
              "      <th>420031</th>\n",
              "      <td>45</td>\n",
              "      <td>2012-05-25</td>\n",
              "      <td>0</td>\n",
              "      <td>49.0</td>\n",
              "      <td>-4.97</td>\n",
              "      <td>67.21</td>\n",
              "      <td>3.798</td>\n",
              "      <td>5370.39</td>\n",
              "      <td>0.00</td>\n",
              "      <td>361.22</td>\n",
              "      <td>1287.62</td>\n",
              "      <td>2461.81</td>\n",
              "      <td>191.002810</td>\n",
              "      <td>8.567</td>\n",
              "      <td>2</td>\n",
              "      <td>118221</td>\n",
              "      <td>Normal</td>\n",
              "    </tr>\n",
              "    <tr>\n",
              "      <th>420370</th>\n",
              "      <td>45</td>\n",
              "      <td>2012-06-29</td>\n",
              "      <td>0</td>\n",
              "      <td>49.0</td>\n",
              "      <td>-34.00</td>\n",
              "      <td>75.22</td>\n",
              "      <td>3.506</td>\n",
              "      <td>3291.36</td>\n",
              "      <td>425.60</td>\n",
              "      <td>0.00</td>\n",
              "      <td>314.88</td>\n",
              "      <td>2255.34</td>\n",
              "      <td>191.099246</td>\n",
              "      <td>8.567</td>\n",
              "      <td>2</td>\n",
              "      <td>118221</td>\n",
              "      <td>Normal</td>\n",
              "    </tr>\n",
              "    <tr>\n",
              "      <th>420736</th>\n",
              "      <td>45</td>\n",
              "      <td>2012-08-03</td>\n",
              "      <td>0</td>\n",
              "      <td>49.0</td>\n",
              "      <td>-1.91</td>\n",
              "      <td>76.58</td>\n",
              "      <td>3.654</td>\n",
              "      <td>24853.05</td>\n",
              "      <td>39.56</td>\n",
              "      <td>17.96</td>\n",
              "      <td>11142.69</td>\n",
              "      <td>2768.32</td>\n",
              "      <td>191.164090</td>\n",
              "      <td>8.684</td>\n",
              "      <td>2</td>\n",
              "      <td>118221</td>\n",
              "      <td>Normal</td>\n",
              "    </tr>\n",
              "    <tr>\n",
              "      <th>421131</th>\n",
              "      <td>45</td>\n",
              "      <td>2012-09-14</td>\n",
              "      <td>0</td>\n",
              "      <td>49.0</td>\n",
              "      <td>-6.83</td>\n",
              "      <td>67.87</td>\n",
              "      <td>3.948</td>\n",
              "      <td>11407.95</td>\n",
              "      <td>0.00</td>\n",
              "      <td>4.30</td>\n",
              "      <td>3421.72</td>\n",
              "      <td>5268.92</td>\n",
              "      <td>191.699850</td>\n",
              "      <td>8.684</td>\n",
              "      <td>2</td>\n",
              "      <td>118221</td>\n",
              "      <td>Normal</td>\n",
              "    </tr>\n",
              "  </tbody>\n",
              "</table>\n",
              "<p>1285 rows × 17 columns</p>\n",
              "</div>"
            ],
            "text/plain": [
              "        Store        Date  IsHoliday  Dept  Weekly_Sales  Temperature  \\\n",
              "182         1  2010-02-19          0  47.0       -863.00        39.93   \n",
              "429         1  2010-03-12          0  47.0       -698.00        57.79   \n",
              "2555        1  2010-10-08          0  47.0        -58.00        63.93   \n",
              "3632        1  2011-01-21          0  54.0        -50.00        44.04   \n",
              "4382        1  2011-04-08          0  47.0       -298.00        67.84   \n",
              "...       ...         ...        ...   ...           ...          ...   \n",
              "419972     45  2012-05-18          0  49.0         -3.97        66.30   \n",
              "420031     45  2012-05-25          0  49.0         -4.97        67.21   \n",
              "420370     45  2012-06-29          0  49.0        -34.00        75.22   \n",
              "420736     45  2012-08-03          0  49.0         -1.91        76.58   \n",
              "421131     45  2012-09-14          0  49.0         -6.83        67.87   \n",
              "\n",
              "        Fuel_Price  MarkDown1  MarkDown2  MarkDown3  MarkDown4  MarkDown5  \\\n",
              "182          2.514       0.00       0.00       0.00       0.00       0.00   \n",
              "429          2.667       0.00       0.00       0.00       0.00       0.00   \n",
              "2555         2.633       0.00       0.00       0.00       0.00       0.00   \n",
              "3632         3.016       0.00       0.00       0.00       0.00       0.00   \n",
              "4382         3.622       0.00       0.00       0.00       0.00       0.00   \n",
              "...            ...        ...        ...        ...        ...        ...   \n",
              "419972       3.848    6813.74       0.00      13.86     936.49    2941.55   \n",
              "420031       3.798    5370.39       0.00     361.22    1287.62    2461.81   \n",
              "420370       3.506    3291.36     425.60       0.00     314.88    2255.34   \n",
              "420736       3.654   24853.05      39.56      17.96   11142.69    2768.32   \n",
              "421131       3.948   11407.95       0.00       4.30    3421.72    5268.92   \n",
              "\n",
              "               CPI  Unemployment  Type    Size Event_Type  \n",
              "182     211.289143         8.106     3  151315     Normal  \n",
              "429     211.380643         8.106     3  151315     Normal  \n",
              "2555    211.746754         7.838     3  151315     Normal  \n",
              "3632    211.827234         7.742     3  151315     Normal  \n",
              "4382    215.074394         7.682     3  151315     Normal  \n",
              "...            ...           ...   ...     ...        ...  \n",
              "419972  190.996448         8.567     2  118221     Normal  \n",
              "420031  191.002810         8.567     2  118221     Normal  \n",
              "420370  191.099246         8.567     2  118221     Normal  \n",
              "420736  191.164090         8.684     2  118221     Normal  \n",
              "421131  191.699850         8.684     2  118221     Normal  \n",
              "\n",
              "[1285 rows x 17 columns]"
            ]
          },
          "execution_count": 54,
          "metadata": {},
          "output_type": "execute_result"
        }
      ],
      "source": [
        "# Weeekly_Sales < 0 \n",
        "df_final.query(\"Weekly_Sales < 0\")"
      ]
    },
    {
      "cell_type": "code",
      "execution_count": 55,
      "metadata": {},
      "outputs": [
        {
          "data": {
            "text/plain": [
              "Index([], dtype='int64')"
            ]
          },
          "execution_count": 55,
          "metadata": {},
          "output_type": "execute_result"
        }
      ],
      "source": [
        "# Obtener los indices donde estan ubicados los valores atipicos de Weekly_Sales menores a 0 \n",
        "df_final.query(\"Weekly_Sales > 200000\").index"
      ]
    },
    {
      "cell_type": "code",
      "execution_count": 56,
      "metadata": {},
      "outputs": [],
      "source": [
        "# Eliminar los valores atipicos de Weekly_Sales menores a 0\n",
        "df_final.drop(df_final.query(\"Weekly_Sales < 0\").index, inplace = True) "
      ]
    },
    {
      "cell_type": "markdown",
      "metadata": {},
      "source": [
        "Tratamiento de variables categoricas"
      ]
    },
    {
      "cell_type": "code",
      "execution_count": 57,
      "metadata": {},
      "outputs": [
        {
          "name": "stdout",
          "output_type": "stream",
          "text": [
            "   Store       Date  IsHoliday  Dept  Weekly_Sales  Temperature  Fuel_Price  \\\n",
            "0      1 2010-02-05          0   1.0      24924.50        42.31       2.572   \n",
            "1      1 2010-02-05          0  26.0      11737.12        42.31       2.572   \n",
            "2      1 2010-02-05          0  17.0      13223.76        42.31       2.572   \n",
            "3      1 2010-02-05          0  45.0         37.44        42.31       2.572   \n",
            "4      1 2010-02-05          0  28.0       1085.29        42.31       2.572   \n",
            "\n",
            "   MarkDown1  MarkDown2  MarkDown3  MarkDown4  MarkDown5         CPI  \\\n",
            "0        0.0        0.0        0.0        0.0        0.0  211.096358   \n",
            "1        0.0        0.0        0.0        0.0        0.0  211.096358   \n",
            "2        0.0        0.0        0.0        0.0        0.0  211.096358   \n",
            "3        0.0        0.0        0.0        0.0        0.0  211.096358   \n",
            "4        0.0        0.0        0.0        0.0        0.0  211.096358   \n",
            "\n",
            "   Unemployment  Type    Size Event_Type     Quarter  \n",
            "0         8.106     3  151315     Normal  Trimestre1  \n",
            "1         8.106     3  151315     Normal  Trimestre1  \n",
            "2         8.106     3  151315     Normal  Trimestre1  \n",
            "3         8.106     3  151315     Normal  Trimestre1  \n",
            "4         8.106     3  151315     Normal  Trimestre1  \n"
          ]
        }
      ],
      "source": [
        "#convertir los dates a trimestres quarters \n",
        "import pandas as pd\n",
        "\n",
        "# Convertir la columna 'Date' a tipo datetime\n",
        "df_final['Date'] = pd.to_datetime(df_final['Date'])\n",
        "\n",
        "# Crear una nueva columna 'Quarter' basada en los meses\n",
        "def asignar_trimestre(mes):\n",
        "    if 1 <= mes <= 3:\n",
        "        return 'Trimestre1'\n",
        "    elif 4 <= mes <= 6:\n",
        "        return 'Trimestre2'\n",
        "    elif 7 <= mes <= 9:\n",
        "        return 'Trimestre3'\n",
        "    else:\n",
        "        return 'Trimestre4'\n",
        "\n",
        "df_final['Quarter'] = df_final['Date'].dt.month.apply(asignar_trimestre)\n",
        "\n",
        "# Mostrar las primeras filas del DataFrame resultante\n",
        "print(df_final.head())"
      ]
    },
    {
      "cell_type": "code",
      "execution_count": 58,
      "metadata": {},
      "outputs": [
        {
          "data": {
            "text/html": [
              "<div>\n",
              "<style scoped>\n",
              "    .dataframe tbody tr th:only-of-type {\n",
              "        vertical-align: middle;\n",
              "    }\n",
              "\n",
              "    .dataframe tbody tr th {\n",
              "        vertical-align: top;\n",
              "    }\n",
              "\n",
              "    .dataframe thead th {\n",
              "        text-align: right;\n",
              "    }\n",
              "</style>\n",
              "<table border=\"1\" class=\"dataframe\">\n",
              "  <thead>\n",
              "    <tr style=\"text-align: right;\">\n",
              "      <th></th>\n",
              "      <th>Event_Type</th>\n",
              "      <th>Quarter</th>\n",
              "    </tr>\n",
              "  </thead>\n",
              "  <tbody>\n",
              "    <tr>\n",
              "      <th>count</th>\n",
              "      <td>420122</td>\n",
              "      <td>420122</td>\n",
              "    </tr>\n",
              "    <tr>\n",
              "      <th>unique</th>\n",
              "      <td>5</td>\n",
              "      <td>4</td>\n",
              "    </tr>\n",
              "    <tr>\n",
              "      <th>top</th>\n",
              "      <td>Normal</td>\n",
              "      <td>Trimestre3</td>\n",
              "    </tr>\n",
              "    <tr>\n",
              "      <th>freq</th>\n",
              "      <td>390625</td>\n",
              "      <td>117142</td>\n",
              "    </tr>\n",
              "  </tbody>\n",
              "</table>\n",
              "</div>"
            ],
            "text/plain": [
              "       Event_Type     Quarter\n",
              "count      420122      420122\n",
              "unique          5           4\n",
              "top        Normal  Trimestre3\n",
              "freq       390625      117142"
            ]
          },
          "execution_count": 58,
          "metadata": {},
          "output_type": "execute_result"
        }
      ],
      "source": [
        "df_final.describe(include = np.object_)"
      ]
    },
    {
      "cell_type": "code",
      "execution_count": 59,
      "metadata": {},
      "outputs": [],
      "source": [
        "# Eliminar la columna 'Date'\n",
        "df_final.drop(['Date'], axis = 1, inplace = True)"
      ]
    },
    {
      "cell_type": "code",
      "execution_count": 41,
      "metadata": {},
      "outputs": [],
      "source": [
        "#Eliminar columna Store\n",
        "df_final.drop(['Store'], axis = 1, inplace = True)"
      ]
    },
    {
      "cell_type": "code",
      "execution_count": 62,
      "metadata": {},
      "outputs": [
        {
          "data": {
            "text/html": [
              "<div>\n",
              "<style scoped>\n",
              "    .dataframe tbody tr th:only-of-type {\n",
              "        vertical-align: middle;\n",
              "    }\n",
              "\n",
              "    .dataframe tbody tr th {\n",
              "        vertical-align: top;\n",
              "    }\n",
              "\n",
              "    .dataframe thead th {\n",
              "        text-align: right;\n",
              "    }\n",
              "</style>\n",
              "<table border=\"1\" class=\"dataframe\">\n",
              "  <thead>\n",
              "    <tr style=\"text-align: right;\">\n",
              "      <th></th>\n",
              "      <th>Store</th>\n",
              "      <th>IsHoliday</th>\n",
              "      <th>Dept</th>\n",
              "      <th>Weekly_Sales</th>\n",
              "      <th>Temperature</th>\n",
              "      <th>Fuel_Price</th>\n",
              "      <th>MarkDown1</th>\n",
              "      <th>MarkDown2</th>\n",
              "      <th>MarkDown3</th>\n",
              "      <th>MarkDown4</th>\n",
              "      <th>MarkDown5</th>\n",
              "      <th>CPI</th>\n",
              "      <th>Unemployment</th>\n",
              "      <th>Type</th>\n",
              "      <th>Size</th>\n",
              "      <th>Event_Type</th>\n",
              "      <th>Quarter</th>\n",
              "    </tr>\n",
              "  </thead>\n",
              "  <tbody>\n",
              "    <tr>\n",
              "      <th>0</th>\n",
              "      <td>1</td>\n",
              "      <td>0</td>\n",
              "      <td>1.0</td>\n",
              "      <td>24924.50</td>\n",
              "      <td>42.31</td>\n",
              "      <td>2.572</td>\n",
              "      <td>0.00</td>\n",
              "      <td>0.00</td>\n",
              "      <td>0.0</td>\n",
              "      <td>0.00</td>\n",
              "      <td>0.00</td>\n",
              "      <td>211.096358</td>\n",
              "      <td>8.106</td>\n",
              "      <td>3</td>\n",
              "      <td>151315</td>\n",
              "      <td>Normal</td>\n",
              "      <td>Trimestre1</td>\n",
              "    </tr>\n",
              "    <tr>\n",
              "      <th>1</th>\n",
              "      <td>1</td>\n",
              "      <td>0</td>\n",
              "      <td>26.0</td>\n",
              "      <td>11737.12</td>\n",
              "      <td>42.31</td>\n",
              "      <td>2.572</td>\n",
              "      <td>0.00</td>\n",
              "      <td>0.00</td>\n",
              "      <td>0.0</td>\n",
              "      <td>0.00</td>\n",
              "      <td>0.00</td>\n",
              "      <td>211.096358</td>\n",
              "      <td>8.106</td>\n",
              "      <td>3</td>\n",
              "      <td>151315</td>\n",
              "      <td>Normal</td>\n",
              "      <td>Trimestre1</td>\n",
              "    </tr>\n",
              "    <tr>\n",
              "      <th>2</th>\n",
              "      <td>1</td>\n",
              "      <td>0</td>\n",
              "      <td>17.0</td>\n",
              "      <td>13223.76</td>\n",
              "      <td>42.31</td>\n",
              "      <td>2.572</td>\n",
              "      <td>0.00</td>\n",
              "      <td>0.00</td>\n",
              "      <td>0.0</td>\n",
              "      <td>0.00</td>\n",
              "      <td>0.00</td>\n",
              "      <td>211.096358</td>\n",
              "      <td>8.106</td>\n",
              "      <td>3</td>\n",
              "      <td>151315</td>\n",
              "      <td>Normal</td>\n",
              "      <td>Trimestre1</td>\n",
              "    </tr>\n",
              "    <tr>\n",
              "      <th>3</th>\n",
              "      <td>1</td>\n",
              "      <td>0</td>\n",
              "      <td>45.0</td>\n",
              "      <td>37.44</td>\n",
              "      <td>42.31</td>\n",
              "      <td>2.572</td>\n",
              "      <td>0.00</td>\n",
              "      <td>0.00</td>\n",
              "      <td>0.0</td>\n",
              "      <td>0.00</td>\n",
              "      <td>0.00</td>\n",
              "      <td>211.096358</td>\n",
              "      <td>8.106</td>\n",
              "      <td>3</td>\n",
              "      <td>151315</td>\n",
              "      <td>Normal</td>\n",
              "      <td>Trimestre1</td>\n",
              "    </tr>\n",
              "    <tr>\n",
              "      <th>4</th>\n",
              "      <td>1</td>\n",
              "      <td>0</td>\n",
              "      <td>28.0</td>\n",
              "      <td>1085.29</td>\n",
              "      <td>42.31</td>\n",
              "      <td>2.572</td>\n",
              "      <td>0.00</td>\n",
              "      <td>0.00</td>\n",
              "      <td>0.0</td>\n",
              "      <td>0.00</td>\n",
              "      <td>0.00</td>\n",
              "      <td>211.096358</td>\n",
              "      <td>8.106</td>\n",
              "      <td>3</td>\n",
              "      <td>151315</td>\n",
              "      <td>Normal</td>\n",
              "      <td>Trimestre1</td>\n",
              "    </tr>\n",
              "    <tr>\n",
              "      <th>...</th>\n",
              "      <td>...</td>\n",
              "      <td>...</td>\n",
              "      <td>...</td>\n",
              "      <td>...</td>\n",
              "      <td>...</td>\n",
              "      <td>...</td>\n",
              "      <td>...</td>\n",
              "      <td>...</td>\n",
              "      <td>...</td>\n",
              "      <td>...</td>\n",
              "      <td>...</td>\n",
              "      <td>...</td>\n",
              "      <td>...</td>\n",
              "      <td>...</td>\n",
              "      <td>...</td>\n",
              "      <td>...</td>\n",
              "      <td>...</td>\n",
              "    </tr>\n",
              "    <tr>\n",
              "      <th>421565</th>\n",
              "      <td>45</td>\n",
              "      <td>0</td>\n",
              "      <td>13.0</td>\n",
              "      <td>26240.14</td>\n",
              "      <td>58.85</td>\n",
              "      <td>3.882</td>\n",
              "      <td>4018.91</td>\n",
              "      <td>58.08</td>\n",
              "      <td>100.0</td>\n",
              "      <td>211.94</td>\n",
              "      <td>858.33</td>\n",
              "      <td>192.308899</td>\n",
              "      <td>8.667</td>\n",
              "      <td>2</td>\n",
              "      <td>118221</td>\n",
              "      <td>Normal</td>\n",
              "      <td>Trimestre4</td>\n",
              "    </tr>\n",
              "    <tr>\n",
              "      <th>421566</th>\n",
              "      <td>45</td>\n",
              "      <td>0</td>\n",
              "      <td>16.0</td>\n",
              "      <td>2660.02</td>\n",
              "      <td>58.85</td>\n",
              "      <td>3.882</td>\n",
              "      <td>4018.91</td>\n",
              "      <td>58.08</td>\n",
              "      <td>100.0</td>\n",
              "      <td>211.94</td>\n",
              "      <td>858.33</td>\n",
              "      <td>192.308899</td>\n",
              "      <td>8.667</td>\n",
              "      <td>2</td>\n",
              "      <td>118221</td>\n",
              "      <td>Normal</td>\n",
              "      <td>Trimestre4</td>\n",
              "    </tr>\n",
              "    <tr>\n",
              "      <th>421567</th>\n",
              "      <td>45</td>\n",
              "      <td>0</td>\n",
              "      <td>32.0</td>\n",
              "      <td>4131.54</td>\n",
              "      <td>58.85</td>\n",
              "      <td>3.882</td>\n",
              "      <td>4018.91</td>\n",
              "      <td>58.08</td>\n",
              "      <td>100.0</td>\n",
              "      <td>211.94</td>\n",
              "      <td>858.33</td>\n",
              "      <td>192.308899</td>\n",
              "      <td>8.667</td>\n",
              "      <td>2</td>\n",
              "      <td>118221</td>\n",
              "      <td>Normal</td>\n",
              "      <td>Trimestre4</td>\n",
              "    </tr>\n",
              "    <tr>\n",
              "      <th>421568</th>\n",
              "      <td>45</td>\n",
              "      <td>0</td>\n",
              "      <td>83.0</td>\n",
              "      <td>717.82</td>\n",
              "      <td>58.85</td>\n",
              "      <td>3.882</td>\n",
              "      <td>4018.91</td>\n",
              "      <td>58.08</td>\n",
              "      <td>100.0</td>\n",
              "      <td>211.94</td>\n",
              "      <td>858.33</td>\n",
              "      <td>192.308899</td>\n",
              "      <td>8.667</td>\n",
              "      <td>2</td>\n",
              "      <td>118221</td>\n",
              "      <td>Normal</td>\n",
              "      <td>Trimestre4</td>\n",
              "    </tr>\n",
              "    <tr>\n",
              "      <th>421569</th>\n",
              "      <td>45</td>\n",
              "      <td>0</td>\n",
              "      <td>98.0</td>\n",
              "      <td>1076.80</td>\n",
              "      <td>58.85</td>\n",
              "      <td>3.882</td>\n",
              "      <td>4018.91</td>\n",
              "      <td>58.08</td>\n",
              "      <td>100.0</td>\n",
              "      <td>211.94</td>\n",
              "      <td>858.33</td>\n",
              "      <td>192.308899</td>\n",
              "      <td>8.667</td>\n",
              "      <td>2</td>\n",
              "      <td>118221</td>\n",
              "      <td>Normal</td>\n",
              "      <td>Trimestre4</td>\n",
              "    </tr>\n",
              "  </tbody>\n",
              "</table>\n",
              "<p>420122 rows × 17 columns</p>\n",
              "</div>"
            ],
            "text/plain": [
              "        Store  IsHoliday  Dept  Weekly_Sales  Temperature  Fuel_Price  \\\n",
              "0           1          0   1.0      24924.50        42.31       2.572   \n",
              "1           1          0  26.0      11737.12        42.31       2.572   \n",
              "2           1          0  17.0      13223.76        42.31       2.572   \n",
              "3           1          0  45.0         37.44        42.31       2.572   \n",
              "4           1          0  28.0       1085.29        42.31       2.572   \n",
              "...       ...        ...   ...           ...          ...         ...   \n",
              "421565     45          0  13.0      26240.14        58.85       3.882   \n",
              "421566     45          0  16.0       2660.02        58.85       3.882   \n",
              "421567     45          0  32.0       4131.54        58.85       3.882   \n",
              "421568     45          0  83.0        717.82        58.85       3.882   \n",
              "421569     45          0  98.0       1076.80        58.85       3.882   \n",
              "\n",
              "        MarkDown1  MarkDown2  MarkDown3  MarkDown4  MarkDown5         CPI  \\\n",
              "0            0.00       0.00        0.0       0.00       0.00  211.096358   \n",
              "1            0.00       0.00        0.0       0.00       0.00  211.096358   \n",
              "2            0.00       0.00        0.0       0.00       0.00  211.096358   \n",
              "3            0.00       0.00        0.0       0.00       0.00  211.096358   \n",
              "4            0.00       0.00        0.0       0.00       0.00  211.096358   \n",
              "...           ...        ...        ...        ...        ...         ...   \n",
              "421565    4018.91      58.08      100.0     211.94     858.33  192.308899   \n",
              "421566    4018.91      58.08      100.0     211.94     858.33  192.308899   \n",
              "421567    4018.91      58.08      100.0     211.94     858.33  192.308899   \n",
              "421568    4018.91      58.08      100.0     211.94     858.33  192.308899   \n",
              "421569    4018.91      58.08      100.0     211.94     858.33  192.308899   \n",
              "\n",
              "        Unemployment  Type    Size Event_Type     Quarter  \n",
              "0              8.106     3  151315     Normal  Trimestre1  \n",
              "1              8.106     3  151315     Normal  Trimestre1  \n",
              "2              8.106     3  151315     Normal  Trimestre1  \n",
              "3              8.106     3  151315     Normal  Trimestre1  \n",
              "4              8.106     3  151315     Normal  Trimestre1  \n",
              "...              ...   ...     ...        ...         ...  \n",
              "421565         8.667     2  118221     Normal  Trimestre4  \n",
              "421566         8.667     2  118221     Normal  Trimestre4  \n",
              "421567         8.667     2  118221     Normal  Trimestre4  \n",
              "421568         8.667     2  118221     Normal  Trimestre4  \n",
              "421569         8.667     2  118221     Normal  Trimestre4  \n",
              "\n",
              "[420122 rows x 17 columns]"
            ]
          },
          "execution_count": 62,
          "metadata": {},
          "output_type": "execute_result"
        }
      ],
      "source": [
        "df_final.query(\"Weekly_Sales < 200000\")"
      ]
    },
    {
      "cell_type": "code",
      "execution_count": 63,
      "metadata": {},
      "outputs": [],
      "source": [
        "#Respalda el data frame limpio original para poder experimentar con las tecnicas de transformacion\n",
        "original_dt_final = df_final.copy()"
      ]
    },
    {
      "cell_type": "markdown",
      "metadata": {},
      "source": [
        "Alternativa 0 - Uso de get_dummies de forma 'Manual'"
      ]
    },
    {
      "cell_type": "code",
      "execution_count": 65,
      "metadata": {},
      "outputs": [
        {
          "data": {
            "text/plain": [
              "array(['Trimestre1', 'Trimestre2', 'Trimestre3', 'Trimestre4'],\n",
              "      dtype=object)"
            ]
          },
          "execution_count": 65,
          "metadata": {},
          "output_type": "execute_result"
        }
      ],
      "source": [
        "#Creacion de variables Dummy \n",
        "df_final.Quarter.unique()"
      ]
    },
    {
      "cell_type": "code",
      "execution_count": 70,
      "metadata": {},
      "outputs": [
        {
          "data": {
            "text/html": [
              "<div>\n",
              "<style scoped>\n",
              "    .dataframe tbody tr th:only-of-type {\n",
              "        vertical-align: middle;\n",
              "    }\n",
              "\n",
              "    .dataframe tbody tr th {\n",
              "        vertical-align: top;\n",
              "    }\n",
              "\n",
              "    .dataframe thead th {\n",
              "        text-align: right;\n",
              "    }\n",
              "</style>\n",
              "<table border=\"1\" class=\"dataframe\">\n",
              "  <thead>\n",
              "    <tr style=\"text-align: right;\">\n",
              "      <th></th>\n",
              "      <th>Store</th>\n",
              "      <th>IsHoliday</th>\n",
              "      <th>Dept</th>\n",
              "      <th>Weekly_Sales</th>\n",
              "      <th>Temperature</th>\n",
              "      <th>Fuel_Price</th>\n",
              "      <th>MarkDown1</th>\n",
              "      <th>MarkDown2</th>\n",
              "      <th>MarkDown3</th>\n",
              "      <th>MarkDown4</th>\n",
              "      <th>MarkDown5</th>\n",
              "      <th>CPI</th>\n",
              "      <th>Unemployment</th>\n",
              "      <th>Type</th>\n",
              "      <th>Size</th>\n",
              "      <th>Event_Type</th>\n",
              "      <th>Quarter</th>\n",
              "    </tr>\n",
              "  </thead>\n",
              "  <tbody>\n",
              "    <tr>\n",
              "      <th>0</th>\n",
              "      <td>1</td>\n",
              "      <td>0</td>\n",
              "      <td>1.0</td>\n",
              "      <td>24924.50</td>\n",
              "      <td>42.31</td>\n",
              "      <td>2.572</td>\n",
              "      <td>0.0</td>\n",
              "      <td>0.0</td>\n",
              "      <td>0.0</td>\n",
              "      <td>0.0</td>\n",
              "      <td>0.0</td>\n",
              "      <td>211.096358</td>\n",
              "      <td>8.106</td>\n",
              "      <td>3</td>\n",
              "      <td>151315</td>\n",
              "      <td>Normal</td>\n",
              "      <td>1</td>\n",
              "    </tr>\n",
              "    <tr>\n",
              "      <th>1</th>\n",
              "      <td>1</td>\n",
              "      <td>0</td>\n",
              "      <td>26.0</td>\n",
              "      <td>11737.12</td>\n",
              "      <td>42.31</td>\n",
              "      <td>2.572</td>\n",
              "      <td>0.0</td>\n",
              "      <td>0.0</td>\n",
              "      <td>0.0</td>\n",
              "      <td>0.0</td>\n",
              "      <td>0.0</td>\n",
              "      <td>211.096358</td>\n",
              "      <td>8.106</td>\n",
              "      <td>3</td>\n",
              "      <td>151315</td>\n",
              "      <td>Normal</td>\n",
              "      <td>1</td>\n",
              "    </tr>\n",
              "    <tr>\n",
              "      <th>2</th>\n",
              "      <td>1</td>\n",
              "      <td>0</td>\n",
              "      <td>17.0</td>\n",
              "      <td>13223.76</td>\n",
              "      <td>42.31</td>\n",
              "      <td>2.572</td>\n",
              "      <td>0.0</td>\n",
              "      <td>0.0</td>\n",
              "      <td>0.0</td>\n",
              "      <td>0.0</td>\n",
              "      <td>0.0</td>\n",
              "      <td>211.096358</td>\n",
              "      <td>8.106</td>\n",
              "      <td>3</td>\n",
              "      <td>151315</td>\n",
              "      <td>Normal</td>\n",
              "      <td>1</td>\n",
              "    </tr>\n",
              "    <tr>\n",
              "      <th>3</th>\n",
              "      <td>1</td>\n",
              "      <td>0</td>\n",
              "      <td>45.0</td>\n",
              "      <td>37.44</td>\n",
              "      <td>42.31</td>\n",
              "      <td>2.572</td>\n",
              "      <td>0.0</td>\n",
              "      <td>0.0</td>\n",
              "      <td>0.0</td>\n",
              "      <td>0.0</td>\n",
              "      <td>0.0</td>\n",
              "      <td>211.096358</td>\n",
              "      <td>8.106</td>\n",
              "      <td>3</td>\n",
              "      <td>151315</td>\n",
              "      <td>Normal</td>\n",
              "      <td>1</td>\n",
              "    </tr>\n",
              "    <tr>\n",
              "      <th>4</th>\n",
              "      <td>1</td>\n",
              "      <td>0</td>\n",
              "      <td>28.0</td>\n",
              "      <td>1085.29</td>\n",
              "      <td>42.31</td>\n",
              "      <td>2.572</td>\n",
              "      <td>0.0</td>\n",
              "      <td>0.0</td>\n",
              "      <td>0.0</td>\n",
              "      <td>0.0</td>\n",
              "      <td>0.0</td>\n",
              "      <td>211.096358</td>\n",
              "      <td>8.106</td>\n",
              "      <td>3</td>\n",
              "      <td>151315</td>\n",
              "      <td>Normal</td>\n",
              "      <td>1</td>\n",
              "    </tr>\n",
              "  </tbody>\n",
              "</table>\n",
              "</div>"
            ],
            "text/plain": [
              "   Store  IsHoliday  Dept  Weekly_Sales  Temperature  Fuel_Price  MarkDown1  \\\n",
              "0      1          0   1.0      24924.50        42.31       2.572        0.0   \n",
              "1      1          0  26.0      11737.12        42.31       2.572        0.0   \n",
              "2      1          0  17.0      13223.76        42.31       2.572        0.0   \n",
              "3      1          0  45.0         37.44        42.31       2.572        0.0   \n",
              "4      1          0  28.0       1085.29        42.31       2.572        0.0   \n",
              "\n",
              "   MarkDown2  MarkDown3  MarkDown4  MarkDown5         CPI  Unemployment  Type  \\\n",
              "0        0.0        0.0        0.0        0.0  211.096358         8.106     3   \n",
              "1        0.0        0.0        0.0        0.0  211.096358         8.106     3   \n",
              "2        0.0        0.0        0.0        0.0  211.096358         8.106     3   \n",
              "3        0.0        0.0        0.0        0.0  211.096358         8.106     3   \n",
              "4        0.0        0.0        0.0        0.0  211.096358         8.106     3   \n",
              "\n",
              "     Size Event_Type  Quarter  \n",
              "0  151315     Normal        1  \n",
              "1  151315     Normal        1  \n",
              "2  151315     Normal        1  \n",
              "3  151315     Normal        1  \n",
              "4  151315     Normal        1  "
            ]
          },
          "execution_count": 70,
          "metadata": {},
          "output_type": "execute_result"
        }
      ],
      "source": [
        "#Dar un ID a cada uno de los trimestres\n",
        "df_final.Quarter.replace({'Trimestre1':1, 'Trimestre2':2, 'Trimestre3':3, 'Trimestre4':4}, inplace = True)\n",
        "df_final.head()"
      ]
    },
    {
      "cell_type": "code",
      "execution_count": 71,
      "metadata": {},
      "outputs": [
        {
          "data": {
            "text/plain": [
              "array(['Normal', 'Super Bowl', 'Labour Day', 'Thanksgiving', 'Christmas'],\n",
              "      dtype=object)"
            ]
          },
          "execution_count": 71,
          "metadata": {},
          "output_type": "execute_result"
        }
      ],
      "source": [
        "\n",
        "df_final.Event_Type.unique()"
      ]
    },
    {
      "cell_type": "code",
      "execution_count": 75,
      "metadata": {},
      "outputs": [
        {
          "data": {
            "text/html": [
              "<div>\n",
              "<style scoped>\n",
              "    .dataframe tbody tr th:only-of-type {\n",
              "        vertical-align: middle;\n",
              "    }\n",
              "\n",
              "    .dataframe tbody tr th {\n",
              "        vertical-align: top;\n",
              "    }\n",
              "\n",
              "    .dataframe thead th {\n",
              "        text-align: right;\n",
              "    }\n",
              "</style>\n",
              "<table border=\"1\" class=\"dataframe\">\n",
              "  <thead>\n",
              "    <tr style=\"text-align: right;\">\n",
              "      <th></th>\n",
              "      <th>Store</th>\n",
              "      <th>IsHoliday</th>\n",
              "      <th>Dept</th>\n",
              "      <th>Weekly_Sales</th>\n",
              "      <th>Temperature</th>\n",
              "      <th>Fuel_Price</th>\n",
              "      <th>MarkDown1</th>\n",
              "      <th>MarkDown2</th>\n",
              "      <th>MarkDown3</th>\n",
              "      <th>MarkDown4</th>\n",
              "      <th>MarkDown5</th>\n",
              "      <th>CPI</th>\n",
              "      <th>Unemployment</th>\n",
              "      <th>Type</th>\n",
              "      <th>Size</th>\n",
              "      <th>Event_Type</th>\n",
              "      <th>Quarter</th>\n",
              "    </tr>\n",
              "  </thead>\n",
              "  <tbody>\n",
              "    <tr>\n",
              "      <th>0</th>\n",
              "      <td>1</td>\n",
              "      <td>0</td>\n",
              "      <td>1.0</td>\n",
              "      <td>24924.50</td>\n",
              "      <td>42.31</td>\n",
              "      <td>2.572</td>\n",
              "      <td>0.0</td>\n",
              "      <td>0.0</td>\n",
              "      <td>0.0</td>\n",
              "      <td>0.0</td>\n",
              "      <td>0.0</td>\n",
              "      <td>211.096358</td>\n",
              "      <td>8.106</td>\n",
              "      <td>3</td>\n",
              "      <td>151315</td>\n",
              "      <td>0</td>\n",
              "      <td>1</td>\n",
              "    </tr>\n",
              "    <tr>\n",
              "      <th>1</th>\n",
              "      <td>1</td>\n",
              "      <td>0</td>\n",
              "      <td>26.0</td>\n",
              "      <td>11737.12</td>\n",
              "      <td>42.31</td>\n",
              "      <td>2.572</td>\n",
              "      <td>0.0</td>\n",
              "      <td>0.0</td>\n",
              "      <td>0.0</td>\n",
              "      <td>0.0</td>\n",
              "      <td>0.0</td>\n",
              "      <td>211.096358</td>\n",
              "      <td>8.106</td>\n",
              "      <td>3</td>\n",
              "      <td>151315</td>\n",
              "      <td>0</td>\n",
              "      <td>1</td>\n",
              "    </tr>\n",
              "    <tr>\n",
              "      <th>2</th>\n",
              "      <td>1</td>\n",
              "      <td>0</td>\n",
              "      <td>17.0</td>\n",
              "      <td>13223.76</td>\n",
              "      <td>42.31</td>\n",
              "      <td>2.572</td>\n",
              "      <td>0.0</td>\n",
              "      <td>0.0</td>\n",
              "      <td>0.0</td>\n",
              "      <td>0.0</td>\n",
              "      <td>0.0</td>\n",
              "      <td>211.096358</td>\n",
              "      <td>8.106</td>\n",
              "      <td>3</td>\n",
              "      <td>151315</td>\n",
              "      <td>0</td>\n",
              "      <td>1</td>\n",
              "    </tr>\n",
              "    <tr>\n",
              "      <th>3</th>\n",
              "      <td>1</td>\n",
              "      <td>0</td>\n",
              "      <td>45.0</td>\n",
              "      <td>37.44</td>\n",
              "      <td>42.31</td>\n",
              "      <td>2.572</td>\n",
              "      <td>0.0</td>\n",
              "      <td>0.0</td>\n",
              "      <td>0.0</td>\n",
              "      <td>0.0</td>\n",
              "      <td>0.0</td>\n",
              "      <td>211.096358</td>\n",
              "      <td>8.106</td>\n",
              "      <td>3</td>\n",
              "      <td>151315</td>\n",
              "      <td>0</td>\n",
              "      <td>1</td>\n",
              "    </tr>\n",
              "    <tr>\n",
              "      <th>4</th>\n",
              "      <td>1</td>\n",
              "      <td>0</td>\n",
              "      <td>28.0</td>\n",
              "      <td>1085.29</td>\n",
              "      <td>42.31</td>\n",
              "      <td>2.572</td>\n",
              "      <td>0.0</td>\n",
              "      <td>0.0</td>\n",
              "      <td>0.0</td>\n",
              "      <td>0.0</td>\n",
              "      <td>0.0</td>\n",
              "      <td>211.096358</td>\n",
              "      <td>8.106</td>\n",
              "      <td>3</td>\n",
              "      <td>151315</td>\n",
              "      <td>0</td>\n",
              "      <td>1</td>\n",
              "    </tr>\n",
              "  </tbody>\n",
              "</table>\n",
              "</div>"
            ],
            "text/plain": [
              "   Store  IsHoliday  Dept  Weekly_Sales  Temperature  Fuel_Price  MarkDown1  \\\n",
              "0      1          0   1.0      24924.50        42.31       2.572        0.0   \n",
              "1      1          0  26.0      11737.12        42.31       2.572        0.0   \n",
              "2      1          0  17.0      13223.76        42.31       2.572        0.0   \n",
              "3      1          0  45.0         37.44        42.31       2.572        0.0   \n",
              "4      1          0  28.0       1085.29        42.31       2.572        0.0   \n",
              "\n",
              "   MarkDown2  MarkDown3  MarkDown4  MarkDown5         CPI  Unemployment  Type  \\\n",
              "0        0.0        0.0        0.0        0.0  211.096358         8.106     3   \n",
              "1        0.0        0.0        0.0        0.0  211.096358         8.106     3   \n",
              "2        0.0        0.0        0.0        0.0  211.096358         8.106     3   \n",
              "3        0.0        0.0        0.0        0.0  211.096358         8.106     3   \n",
              "4        0.0        0.0        0.0        0.0  211.096358         8.106     3   \n",
              "\n",
              "     Size  Event_Type  Quarter  \n",
              "0  151315           0        1  \n",
              "1  151315           0        1  \n",
              "2  151315           0        1  \n",
              "3  151315           0        1  \n",
              "4  151315           0        1  "
            ]
          },
          "execution_count": 75,
          "metadata": {},
          "output_type": "execute_result"
        }
      ],
      "source": [
        "df_final.Event_Type.replace({'Normal':0, 'Super Bowl':1, 'Labour Day':2, 'Thanksgiving':3, 'Christmas':4}, inplace = True)\n",
        "df_final.head()"
      ]
    },
    {
      "cell_type": "code",
      "execution_count": 76,
      "metadata": {},
      "outputs": [
        {
          "data": {
            "text/plain": [
              "array([0, 1, 2, 3, 4])"
            ]
          },
          "execution_count": 76,
          "metadata": {},
          "output_type": "execute_result"
        }
      ],
      "source": [
        "df_final.Event_Type.unique()"
      ]
    },
    {
      "cell_type": "code",
      "execution_count": 77,
      "metadata": {},
      "outputs": [],
      "source": [
        "#Guardar la data usando esta alternativa de transformacion\n",
        "dt_final_dummies_manual = df_final.copy()"
      ]
    },
    {
      "cell_type": "markdown",
      "metadata": {},
      "source": [
        "JUSTIFICACION DE ELECCION METODO 0\n",
        "\n",
        "Con mi compañero llegamos a un acuerdo de escoger el metodo 0 de asignar las categorias de forma manual ya que encontramos que para este caso era mejor debido a su flexibildad en la personalizacion del ID "
      ]
    },
    {
      "cell_type": "code",
      "execution_count": null,
      "metadata": {},
      "outputs": [],
      "source": [
        "#Recuperar la version original de los datos codificados usando 'dummies manual'\n",
        "df_final = dt_final_dummies_manual"
      ]
    },
    {
      "cell_type": "code",
      "execution_count": null,
      "metadata": {},
      "outputs": [],
      "source": [
        "#Seprar variable"
      ]
    },
    {
      "cell_type": "markdown",
      "metadata": {
        "id": "kTRcnq2wzKZN"
      },
      "source": [
        "# Fase 4 - Modelamiento"
      ]
    },
    {
      "cell_type": "markdown",
      "metadata": {
        "id": "brGe6MbPVp0a"
      },
      "source": [
        "## Variante 1 - Uso sólo de variables numéricas"
      ]
    },
    {
      "cell_type": "code",
      "execution_count": null,
      "metadata": {
        "id": "5N8xR3MPV1Zx"
      },
      "outputs": [],
      "source": [
        "# Escriba su código acá"
      ]
    },
    {
      "cell_type": "markdown",
      "metadata": {
        "id": "rI5zihXHVvWa"
      },
      "source": [
        "## Variante 2 - Uso de variables numéricas y categórica\n"
      ]
    },
    {
      "cell_type": "code",
      "execution_count": null,
      "metadata": {
        "id": "3ojBZxYeV4Ua"
      },
      "outputs": [],
      "source": [
        "# Escriba su código acá"
      ]
    },
    {
      "cell_type": "markdown",
      "metadata": {
        "id": "zOdEvdnDzNLy"
      },
      "source": [
        "# Fase 5 - Evaluación"
      ]
    },
    {
      "cell_type": "markdown",
      "metadata": {
        "id": "BoZtbDI0V87A"
      },
      "source": [
        "## Variante 1 - Uso sólo de variables numéricas"
      ]
    },
    {
      "cell_type": "code",
      "execution_count": null,
      "metadata": {
        "id": "ZmWBDKJgWCmZ"
      },
      "outputs": [],
      "source": [
        "# Escriba su código acá"
      ]
    },
    {
      "cell_type": "markdown",
      "metadata": {
        "id": "9sIHQMekWA5z"
      },
      "source": [
        "## Variante 2 - Uso de variables numéricas y categórica"
      ]
    },
    {
      "cell_type": "code",
      "execution_count": null,
      "metadata": {
        "id": "r27e7ME3WDxU"
      },
      "outputs": [],
      "source": [
        "# Escriba su código acá"
      ]
    },
    {
      "cell_type": "markdown",
      "metadata": {
        "id": "8g-efcJsX3Ld"
      },
      "source": [
        "# Fase 6 - Deployment"
      ]
    },
    {
      "cell_type": "markdown",
      "metadata": {
        "id": "TiKMvsliX7f_"
      },
      "source": [
        "## Variante 1 - Uso sólo de variables numéricas"
      ]
    },
    {
      "cell_type": "code",
      "execution_count": null,
      "metadata": {
        "id": "-7VzL4lAX_GW"
      },
      "outputs": [],
      "source": [
        "# Escriba su código acá"
      ]
    },
    {
      "cell_type": "markdown",
      "metadata": {
        "id": "GVy064hVX9tM"
      },
      "source": [
        "## Variante 2 - Uso de variables numéricas y categórica"
      ]
    },
    {
      "cell_type": "code",
      "execution_count": null,
      "metadata": {
        "id": "aCY3cMyXX_8e"
      },
      "outputs": [],
      "source": [
        "# Escriba su código acá"
      ]
    },
    {
      "cell_type": "markdown",
      "metadata": {
        "id": "322yq_PEzQUI"
      },
      "source": [
        "# Pregunta final\n",
        "\n",
        "¿Qué modelo recomendaría utilizar para cumplir con el objetivo propuesto al inicio? Deberá justificar su respuesta"
      ]
    }
  ],
  "metadata": {
    "colab": {
      "provenance": []
    },
    "kernelspec": {
      "display_name": "Python 3",
      "name": "python3"
    },
    "language_info": {
      "codemirror_mode": {
        "name": "ipython",
        "version": 3
      },
      "file_extension": ".py",
      "mimetype": "text/x-python",
      "name": "python",
      "nbconvert_exporter": "python",
      "pygments_lexer": "ipython3",
      "version": "3.12.6"
    }
  },
  "nbformat": 4,
  "nbformat_minor": 0
}
